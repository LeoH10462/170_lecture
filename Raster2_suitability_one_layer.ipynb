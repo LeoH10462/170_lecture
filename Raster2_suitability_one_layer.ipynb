{
 "cells": [
  {
   "cell_type": "markdown",
   "metadata": {},
   "source": [
    "# Raster - 2. Raster operations: From a global imagery layer to local suitability analysis.\n",
    "\n",
    "This notebook will demonstrate a typical sequence of transformations for one factor in a suitability model\n"
   ]
  },
  {
   "cell_type": "markdown",
   "metadata": {},
   "source": [
    "Run this cell to connect to your GIS and get started:"
   ]
  },
  {
   "cell_type": "code",
   "execution_count": null,
   "metadata": {},
   "outputs": [],
   "source": [
    "import warnings\n",
    "# warnings.simplefilter(action='ignore', category=FutureWarning)\n",
    "\n",
    "from arcgis import GIS\n",
    "from arcgis.raster import *\n",
    "from arcgis.geometry import *\n",
    "%matplotlib inline\n",
    "import pandas as pd\n",
    "import numpy as np\n",
    "gis = GIS(username=\"izaslavsky_ucsd\") "
   ]
  },
  {
   "cell_type": "code",
   "execution_count": null,
   "metadata": {},
   "outputs": [],
   "source": [
    "# if you plan to run costly opertions on AGOL, it is also a good idea to check available credits\n",
    "iz = gis.users.get('izaslavsky_ucsd')\n",
    "iz.availableCredits\n"
   ]
  },
  {
   "cell_type": "markdown",
   "metadata": {},
   "source": [
    "## Typical steps for preparing a raster layer for suitability analysis:\n",
    " - retrieve the layer\n",
    " - specify area of interest (study area), e.g. by retrieving a named polygon and getting its extent in an explicit CRS\n",
    " - clip the layer to the area of interest\n",
    " - define categories to be shown in the output (these may be suitability classes) (make sure these classes actually exist)\n",
    " - define a colormap for these classes\n",
    " - remap the layer clip to these categories in this colormap\n",
    " \n",
    " \n",
    " You would need to keep track of the steps.\n",
    " I use a simple naming convention below:\n",
    " <code>\n",
    " *_geom : geometry of the study area\n",
    " *_ex   : extent of the study area\n",
    " *_n    : normalized raster, e.g. with a limited set of values that would be easy to interpret when combined with other data \n",
    " *_b    : similar, but with 2 values only (binary)\n",
    " *\\_n_c  : same, with applied colormap\n",
    " </code>"
   ]
  },
  {
   "cell_type": "code",
   "execution_count": null,
   "metadata": {},
   "outputs": [],
   "source": [
    "# Step 1: Retrieing multispectral landsat from the Living Atlas, and referencing the correct layer\n",
    "\n",
    "usa_mean_temperature = ImageryLayer(\"https://landscape3.arcgis.com/arcgis/rest/services/USA_Mean_Temperature/ImageServer\", gis)\n",
    "\n",
    "land_cover_vulnerability_2050 = ImageryLayer(\"https://env1.arcgis.com/arcgis/rest/services/Land_Cover_Vulnerability_2050/ImageServer\",gis)"
   ]
  },
  {
   "cell_type": "code",
   "execution_count": null,
   "metadata": {},
   "outputs": [],
   "source": [
    "# read about the layer on AGOL, if available\n",
    "\n",
    "lcv = gis.content.get(\"20bfd812017e4bc1a241d2581c156bcd\")\n",
    "lcv"
   ]
  },
  {
   "cell_type": "code",
   "execution_count": null,
   "metadata": {
    "scrolled": true
   },
   "outputs": [],
   "source": [
    "# explore the layer via Python\n",
    "land_cover_vulnerability_2050.properties"
   ]
  },
  {
   "cell_type": "code",
   "execution_count": null,
   "metadata": {},
   "outputs": [],
   "source": [
    "land_cover_vulnerability_2050.key_properties()"
   ]
  },
  {
   "cell_type": "code",
   "execution_count": null,
   "metadata": {},
   "outputs": [],
   "source": [
    "land_cover_vulnerability_2050.legend()"
   ]
  },
  {
   "cell_type": "code",
   "execution_count": null,
   "metadata": {},
   "outputs": [],
   "source": [
    "# let's show the original map in a map widget\n",
    "# Step 8: show it on a map, with a legend, to check if the result is as expected.\n",
    "map1 = gis.map('San Diego, CA')\n",
    "map1"
   ]
  },
  {
   "cell_type": "code",
   "execution_count": null,
   "metadata": {},
   "outputs": [],
   "source": [
    "map1.zoom = 8\n",
    "map1.legend.enabled = True\n",
    "map1.content.add(land_cover_vulnerability_2050)"
   ]
  },
  {
   "cell_type": "code",
   "execution_count": null,
   "metadata": {},
   "outputs": [],
   "source": [
    "# Step 2: figuring out the geometry of interest. \n",
    "# At the end of this step, we need to create a \"study_area_extent\" geometry, with an assigned coordinate system\n",
    "\n",
    "# Here, we will use San Diego country as an example. We'll set it as the study area \n",
    "\n",
    "# 2a: retrieve the vector polygon layer and visualize it\n",
    "counties_item = gis.content.search('USA Counties generalized', 'Feature Layer', outside_org=True)[4]\n",
    "counties_lyr = counties_item.layers[0]\n"
   ]
  },
  {
   "cell_type": "code",
   "execution_count": null,
   "metadata": {},
   "outputs": [],
   "source": [
    "counties_item"
   ]
  },
  {
   "cell_type": "code",
   "execution_count": null,
   "metadata": {},
   "outputs": [],
   "source": [
    "# 2b: query the polygon layer, return its geometry, and set it as the study area. \n",
    "\n",
    "study_area_query = counties_lyr.query(\"FIPS='06073'\", return_geometry=True)\n",
    "study_area_geom= study_area_query.features[0].geometry\n",
    "study_area_geom['spatialReference'] = study_area_query.spatial_reference\n",
    "study_area_ex = Geometry(study_area_geom).geoextent  # or just 'extent'\n",
    "\n",
    "# 2c: then create the extent as a dict from the returned tuple \n",
    "tup = (('xmin',study_area_ex[0]), ('ymin', study_area_ex[1]), ('xmax',study_area_ex[2]), ('ymax', study_area_ex[3]))\n",
    "study_area_extent = dict(tup)\n",
    "\n",
    "# 2d: to be correcter, let's also add CRS:\n",
    "crs = \"{'latestwkid':3857, 'wkid':102100}\"\n",
    "study_area_extent.update({'spatialReference':{'latestwkid':3857, 'wkid':102100}})\n"
   ]
  },
  {
   "cell_type": "code",
   "execution_count": null,
   "metadata": {},
   "outputs": [],
   "source": [
    "#2e: check the geometry\n",
    "study_area_geom"
   ]
  },
  {
   "cell_type": "code",
   "execution_count": null,
   "metadata": {},
   "outputs": [],
   "source": [
    "# Step 3: clip lcv raster (from step 1) to SD geometry (from step 2):\n",
    "lcv_study_area = clip(raster = land_cover_vulnerability_2050, geometry = study_area_geom)\n",
    "\n",
    "lcv_study_area.legend()  # notice that the clip's legend is different\n"
   ]
  },
  {
   "cell_type": "code",
   "execution_count": null,
   "metadata": {},
   "outputs": [],
   "source": [
    "#  Step 3a: Let's figure out the range of values in the clipped area:\n",
    "histograms = lcv_study_area.compute_histograms(geometry=study_area_geom)"
   ]
  },
  {
   "cell_type": "code",
   "execution_count": null,
   "metadata": {},
   "outputs": [],
   "source": [
    "histogram = histograms['histograms'][0]  # Adjust index for specific bands if needed\n",
    "min_value = histogram['min']\n",
    "max_value = histogram['max']\n",
    "print(f\"Min Value: {min_value}, Max Value: {max_value}\")"
   ]
  },
  {
   "cell_type": "code",
   "execution_count": null,
   "metadata": {},
   "outputs": [],
   "source": [
    "# Alternatively, just look these up in layer properties\n",
    "\n",
    "print(lcv_study_area.properties.minValues)\n",
    "print(lcv_study_area.properties.maxValues)"
   ]
  },
  {
   "cell_type": "code",
   "execution_count": null,
   "metadata": {},
   "outputs": [],
   "source": [
    "# Step 4: decide how to present the clipped raster by categories. Here, we define input range for lcv in 8 categories\n",
    "# In a suitability model, it is typically easier to work with a limited set of values\n",
    "# which are at the same scale as other rasters (often referred to as \"normalization\")\n",
    "\n",
    "lcv_input_ranges_n = [0.0, 100,\n",
    "                      100, 200,\n",
    "                      200, 300, \n",
    "                      300, 400,\n",
    "                      400, 500,\n",
    "                      500, 600,\n",
    "                      600, 700,\n",
    "                      700, 1000]\n",
    "\n",
    "\n",
    "# Step 5: Create a colormap values for the 8 raster categories defined in step 4 (the values will be from 0 to 7):\n",
    "clrmap8 =  [[7, 242, 85, 0], [6, 250, 142, 0], [5, 255, 195, 0], [4, 255, 255, 0], [3, 197, 219, 0],  \n",
    "          [2, 139, 181, 0], [1, 86, 148, 0], [0, 38, 115, 0]]\n",
    "\n",
    "\n",
    "# Step 6: remap the raster to the 8 categories, and apply the raster extent\n",
    "lcv_n = remap(raster = lcv_study_area,\n",
    "               input_ranges = lcv_input_ranges_n,\n",
    "               output_values = [i for i in range(8)],\n",
    "               astype = 'U8')\n",
    "lcv_n.extent= study_area_extent\n"
   ]
  },
  {
   "cell_type": "code",
   "execution_count": null,
   "metadata": {},
   "outputs": [],
   "source": [
    "# Step 7: apply the colormap (from step 5) to the remapped raster (from step 6). \n",
    "# This will generate a normalized color view of the suitability factor\n",
    "\n",
    "\n",
    "lcv_n_c = colormap(raster=lcv_n, colormap=clrmap8)\n"
   ]
  },
  {
   "cell_type": "code",
   "execution_count": null,
   "metadata": {
    "scrolled": true
   },
   "outputs": [],
   "source": [
    "# Step 8: show it on a map, with a legend, to check if the result is as expected.\n",
    "map2 = gis.map('San Diego, CA')\n",
    "map2"
   ]
  },
  {
   "cell_type": "code",
   "execution_count": null,
   "metadata": {},
   "outputs": [],
   "source": [
    "map2.zoom = 8\n",
    "map2.legend.enabled = True\n",
    "map2.content.add(lcv_n_c)"
   ]
  },
  {
   "cell_type": "code",
   "execution_count": null,
   "metadata": {
    "scrolled": true
   },
   "outputs": [],
   "source": [
    "import graphviz\n",
    "lcv_n_c.draw_graph()\n",
    "\n",
    "# this is a typical preparation sequence"
   ]
  },
  {
   "cell_type": "markdown",
   "metadata": {},
   "source": [
    "## A few rasters you can use as sources of data"
   ]
  },
  {
   "cell_type": "code",
   "execution_count": null,
   "metadata": {},
   "outputs": [],
   "source": [
    "\n",
    "\n",
    "usa_mean_temperature = ImageryLayer(\"https://landscape3.arcgis.com/arcgis/rest/services/USA_Mean_Temperature/ImageServer\", gis)\n",
    "usa_landcover_gap = ImageryLayer(\"https://landscape3.arcgis.com/arcgis/rest/services/USA_Landcover_GAP/ImageServer\", gis)\n",
    "usa_slope = ImageryLayer(\"https://landscape3.arcgis.com/arcgis/rest/services/Landscape_Modeler/USA_Slope/ImageServer\", gis)\n",
    "\n",
    "usa_wetlands = ImageryLayer('https://landscape11.arcgis.com/arcgis/rest/services/USA_Wetlands/ImageServer',gis)\n",
    "\n",
    "usa_soil_erosion = ImageryLayer('https://landscape11.arcgis.com/arcgis/rest/services/USA_Soils_Erosion_Class/ImageServer',gis)\n",
    "\n",
    "global_air_pollution = ImageryLayer('https://sedac.ciesin.columbia.edu/arcgis/rest/services/sedac/sdei_global_annual_avg_pm2_5_2001_2010_image_service/ImageServer',gis)\n",
    "\n",
    "global_GLDAS_evapotranspiration = ImageryLayer('https://earthobs2.arcgis.com/arcgis/rest/services/GLDAS_Evapotranspiration/ImageServer',gis)\n",
    "\n",
    "usa_federal_lands = ImageryLayer('https://landscape10.arcgis.com/arcgis/rest/services/USA_Federal_Lands/ImageServer',gis)\n",
    "\n",
    "usa_soil_erodibility = ImageryLayer('https://landscape11.arcgis.com/arcgis/rest/services/USA_Soils_Erodibility_Factor/ImageServer',gis)\n",
    "\n",
    "# more available imagery layers to check out: see landscape1.arcgis.com ... landscape13.arcgis.com\n",
    "\n",
    "\n",
    "# see functions at https://pro.arcgis.com/en/pro-app/help/data/imagery/calculator-function.htm "
   ]
  },
  {
   "cell_type": "code",
   "execution_count": null,
   "metadata": {},
   "outputs": [],
   "source": []
  }
 ],
 "metadata": {
  "esriNotebookRuntime": {
   "notebookRuntimeName": "Standard-with-NBGrader-Graphviz",
   "notebookRuntimeVersion": "3.0"
  },
  "kernelspec": {
   "display_name": "Python 3 (ipykernel)",
   "language": "python",
   "name": "python3"
  },
  "language_info": {
   "codemirror_mode": {
    "name": "ipython",
    "version": 3
   },
   "file_extension": ".py",
   "mimetype": "text/x-python",
   "name": "python",
   "nbconvert_exporter": "python",
   "pygments_lexer": "ipython3",
   "version": "3.11.9"
  },
  "toc": {
   "base_numbering": 1,
   "nav_menu": {},
   "number_sections": true,
   "sideBar": true,
   "skip_h1_title": true,
   "title_cell": "Table of Contents",
   "title_sidebar": "Contents",
   "toc_cell": false,
   "toc_position": {},
   "toc_section_display": true,
   "toc_window_display": true
  }
 },
 "nbformat": 4,
 "nbformat_minor": 4
}
