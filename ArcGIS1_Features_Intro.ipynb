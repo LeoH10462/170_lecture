{
 "cells": [
  {
   "cell_type": "markdown",
   "metadata": {},
   "source": [
    "<h1><b> DSC 170: Introduction to GIS, ArcGIS, ArcGIS Online, and ArcGIS API for Python (ArcGIS-1)</b></h1>\n",
    "\n",
    "This lecture will cover:\n",
    "* GIS definitions and key points    \n",
    "    - in a narrow sense: integrating data based on relationships in space\n",
    "* Intro to ArcGIS and ArcGIS Online\n",
    "* ArcGIS API for Python: main components\n",
    "* How different components of ArcGIS ecosystem work together\n",
    "    * interactions between ArcGIS API for Python and ArcGIS Online\n",
    "    * ArcGIS API for Python, and ArcPy\n",
    "* Beginning vector data analysis with ArcGIS API\n",
    "* A typical data science setup: data enrichment\n",
    "\n",
    "Let's review where we started: https://docs.google.com/presentation/d/1qzzeryYdUM_DMgjGBUlKi2J-HguXbR9dJ6HBmbiMdws/edit#slide=id.p24"
   ]
  },
  {
   "cell_type": "markdown",
   "metadata": {},
   "source": [
    "## GIS has been defined in several ways:\n",
    "* naively: software acquired to make hardware manage spatial databases (maps)\n",
    "* an integrated package for the input, storage, analysis and output of spatial information (just the computer component...)\n",
    "* “a system of hardware, software, data, people, organizations and institutional arrangements for collecting, storing, analyzing, and disseminating information about areas of the earth (Dueker and Kjerne, 1989)  \n",
    "   - \"people\" and \"organizations\" is important\n",
    "* D. Cowen’s : a spatial decision support system (SDSS)\n",
    "* \"A geographic information system (GIS) is a framework for gathering, managing, and analyzing data.\" (https://www.esri.com/en-us/what-is-gis/overview) ??\n",
    "* people still write about it... https://www.gislounge.com/what-is-gis/\n",
    "\n",
    "### Key points to understand GIS:\n",
    "\n",
    "* Includes: hardware, software, data, people, organizations, institutional arrangements\n",
    "* An __Information System__ applied to geographic data, geography (spatial relations) is used to integrate information\n",
    "* Maps in GIS are graphic representations of a __digital database__ (what is the difference between a GIS and an online mapping system??)\n",
    "* Combination of attribute and spatial data, with __dynamic linkage__ between them\n",
    "* Implements spatial and attribute queries, selections, variety of analytical procedures \n",
    "* Ability to __integrate__ data from a variety of sources/formats - concept of map layers: \n",
    "\n"
   ]
  },
  {
   "cell_type": "markdown",
   "metadata": {},
   "source": [
    "## ArcGIS product line \n",
    "\n",
    "... is developed by ESRI (http://www.esri.com). There are many products these days (https://www.esri.com/en-us/arcgis/products/index), including core enterprise components, for the desktop (ArcGIS Desktop, ArcGIS Pro), servers, mobile, etc. Also, a number of domains-specific solutions, focused on oil and gas, governments at different levels, businesses, defense, maritime, aviation, utilities, transportation, community development, etc. There are also several development producs, and we will use several of them, primarily ArcGIS API for Python. \n",
    "\n"
   ]
  },
  {
   "cell_type": "markdown",
   "metadata": {},
   "source": [
    "## ArcGIS API for Python, and interaction with ArcGIS Online  \n",
    "\n",
    "\n",
    "ArcGIS API for Python includes several modules (from https://developers.arcgis.com/python/guide/overview-of-the-arcgis-api-for-python/)\n",
    "<img src='img/guide_api_modules_overview.png' >"
   ]
  },
  {
   "cell_type": "markdown",
   "metadata": {},
   "source": [
    "* GIS (entry point: management of users and content, access datasets)\n",
    "* in purple: cover different types of spatial data (today we'll work with features; later with rasters)\n",
    "* in blue: general operations used across types: geoprocessing, geoenrichment, geocoding, geometry management, etc.\n",
    "* in orange: visualization modules and web apps management\n",
    "\n",
    "We'll explore several modules in this class, but won't cover them exhaustively - there is documentation online (https://developers.arcgis.com/python/). We will only go into details where it is conceptually important. "
   ]
  },
  {
   "cell_type": "markdown",
   "metadata": {},
   "source": [
    "### The GIS, and Content Manager.\n",
    "\n",
    "ArcGIS Python API works with data of different types via __Content Manager__. \n",
    "\n",
    "__Content manager__ allows users to manage the data and maps that they have stored in their ArcGIS account or organization. It allows users to add, edit, and delete data and maps, as well as share them with other users within their organization or with the public. \n"
   ]
  },
  {
   "cell_type": "code",
   "execution_count": null,
   "metadata": {},
   "outputs": [],
   "source": [
    "import warnings\n",
    "\n",
    "import arcgis\n",
    "from arcgis.gis import GIS\n",
    "from arcgis import geometry\n",
    "from arcgis.features import GeoAccessor, GeoSeriesAccessor\n",
    "import pandas as pd\n",
    "import os\n",
    "\n",
    "print(arcgis.__version__)\n",
    "print(pd.__version__)\n",
    "\n"
   ]
  },
  {
   "cell_type": "code",
   "execution_count": null,
   "metadata": {},
   "outputs": [],
   "source": [
    "# Log in to GIS portal\n",
    "\n",
    "# gis = GIS() # for anonymous access\n",
    "\n",
    "# this way to login is using UCSD Single-Sign-On accounts. See separate doc on how to create a client_id\n",
    "gis=GIS(\"https://ucsdonline.maps.arcgis.com/home\", client_id=\"bZshlNXFuaR2KHff\") \n",
    "\n",
    "# my ESRI owner id for the SSO account is izaslavsky_UCSDOnline - yours will look similar (that is, your SSOID_UCSDOnline)\n",
    "\n",
    "# my old style account: you may still see it in demo notebooks. \n",
    "# gis = GIS(username='izaslavsky_ucsd')  # this will ask for password. You can also include your password in this string\n",
    "\n",
    "\n"
   ]
  },
  {
   "cell_type": "code",
   "execution_count": null,
   "metadata": {},
   "outputs": [],
   "source": [
    "my_content = gis.content.search(query=f\"owner:izaslavsky_UCSDOnline\", max_items=1000)\n",
    "my_content"
   ]
  },
  {
   "cell_type": "markdown",
   "metadata": {},
   "source": [
    "### Using more than one GIS object\n",
    "\n",
    "Important: In the above, I redefined the gis object. \n",
    "But you may have more than one GIS object in your code. \n",
    "\n",
    "For example, you could use agol = GIS(...) and age = GIS(...), and then use specific functions that are available at these GIS objects.\n",
    "\n",
    "(AGE == ArcGIS Enterprise)\n",
    "\n",
    "__ArcGIS Online__ is a cloud-based mapping and analysis platform developed by Esri. It is a web-based application that allows users to create and share maps, data, and geographic information. ArcGIS Online includes a wide range of tools and resources for creating, managing, and sharing spatial data and maps, including tools for mapping, analysis, data visualization, and data management. It also includes a large collection of pre-made maps, data layers, and applications that can be used as a starting point for creating new maps and analyses.\n",
    "\n",
    "__ArcGIS Enterprise__ is a comprehensive mapping and analysis platform by Esri, deployed on-premises or in a private cloud. Using it doesn't require the use of credits (with a few exceptions).\n"
   ]
  },
  {
   "cell_type": "code",
   "execution_count": null,
   "metadata": {},
   "outputs": [],
   "source": [
    "# once we established a GIS object, we can search for data of different types available through that object:\n",
    "search_result = gis.content.search(query=\"title:San Diego\", item_type=\"Feature Layer\")\n",
    "\n",
    "\n",
    "# search_result = gis.content.search(query=\"title:San Diego\", item_type=\"Feature Layer\", outside_org=True)\n",
    "# important to add outside_org when you are logged in!!\n",
    "\n",
    "# see search reference at https://developers.arcgis.com/rest/users-groups-and-items/search-reference.htm\n",
    "# fields: id, owner, created (in UNIX time), modified, title, type, typekeywords, description, tags, snippet\n",
    "# spatialreference, access, group, numratings, avgrating, ...\n",
    "\n",
    "# search also supports wildcards\n",
    "search_result"
   ]
  },
  {
   "cell_type": "code",
   "execution_count": null,
   "metadata": {},
   "outputs": [],
   "source": [
    "# we can addres individual search results:\n",
    "\n",
    "for i, g in enumerate(search_result):\n",
    "    print(i,g)"
   ]
  },
  {
   "cell_type": "markdown",
   "metadata": {},
   "source": [
    "### Exploring ArcGIS Online\n",
    "\n",
    "These same resources are available through ArcGIS Online. Login to arcgis.com using your username and password. Compare the Python's Content Manager with  _Content_ in ArcGIS Online. Other menu items in ArcGIS Online can be also accessed programmatically from the Python API. "
   ]
  },
  {
   "cell_type": "markdown",
   "metadata": {},
   "source": [
    "### What types of data are managed in ArcGIS (and we can request through the content manager) \n",
    "\n",
    "See https://developers.arcgis.com/rest/users-groups-and-items/items-and-item-types.htm\n",
    "\n",
    "Too many specific types to desscribe (See the table on the web page). The main groups are:\n",
    "* maps (consist of one or more layers)\n",
    "* layers (information feeds)\n",
    "* styles (symbols, colors, north arrows, etc.)\n",
    "* tools (extract additional info/do processing; processing services)\n",
    "* applications (maps + widgets/tools)\n",
    "* datafiles (content)\n",
    "* notebooks (!)\n",
    "* deep learning packages, .dlpk (!!)\n",
    "\n",
    "Each item (on the web) has a URL, also title, description, type, keywords, thumbnail, etc. Some of these metadata elements are mandatory, your resources won't be published without them. This requirement derives from a long experience of dealing with spatial data without adequate metadata descriptions.\n",
    "\n",
    "Compare it with how you manage data with pandas/geopandas: you have to do it yourself or use 3-rd party workflow and metadata tools. Now, you can keep all your data online, publish data to your account manually and from Python, share it within your group or organization or the world, and also retrieve the data into your Python code from there.\n",
    "\n",
    "In this class: we have a DSC170 Data group set up. You are all members of this group (or will be soon) "
   ]
  },
  {
   "cell_type": "code",
   "execution_count": null,
   "metadata": {},
   "outputs": [],
   "source": [
    "from IPython.display import display\n",
    "for i, g in enumerate(search_result):\n",
    "    print(i)\n",
    "    display(g)\n"
   ]
  },
  {
   "cell_type": "markdown",
   "metadata": {},
   "source": [
    "### Adding content to ArcGIS Online\n",
    "\n",
    "There are several ways to add content: manually via ArcGIS Online user interface; using the Content Manager API in Python. \n",
    "\n",
    "You can add an item directly using the add() method on ContentManager and passing a dictionary with item properties. Once an item is added, it can be used to publish web data services of several types. This is shown in the next few cells.\n",
    "\n"
   ]
  },
  {
   "cell_type": "code",
   "execution_count": null,
   "metadata": {},
   "outputs": [],
   "source": [
    "# set data location (uncomment one of them)\n",
    "data_location = os.environ[\"HOME\"]+\"/public/datasets/\"  # in the shared datahub \n",
    "# data_location = \"../../8. Data/\"    # on my local install"
   ]
  },
  {
   "cell_type": "code",
   "execution_count": null,
   "metadata": {},
   "outputs": [],
   "source": [
    "# remember files we used in previous lectures, e.g.\n",
    "! ls -ltr ../../../../public/datasets/california\n",
    "\n",
    "# let's add it to ArcGIS so that it can be later discovered\n"
   ]
  },
  {
   "cell_type": "code",
   "execution_count": null,
   "metadata": {
    "scrolled": true
   },
   "outputs": [],
   "source": [
    "shp_path = data_location+ \"california/california_coastline.zip\"\n",
    "\n",
    "# Need to give it a unique title. \n",
    "# One can have multiple shapefiles added, but published feature layer names should be unique within an organization.\n",
    "\n",
    "shp_properties = {'title':'California coastline', 'tags':'sample data'}\n",
    "coastline_shapefile = gis.content.add(item_properties = shp_properties, data=shp_path)\n",
    "\n"
   ]
  },
  {
   "cell_type": "code",
   "execution_count": null,
   "metadata": {},
   "outputs": [],
   "source": [
    "# if the item already exists in AGOL - it was added already\n",
    "coastline_shapefile = gis.content.search(query=\"California_coastline owner:izaslavsky_ucsd\",max_items=50)\n",
    "counter=0\n",
    "for item in coastline_shapefile:\n",
    "    print(counter, item)\n",
    "    counter+=1\n"
   ]
  },
  {
   "cell_type": "markdown",
   "metadata": {},
   "source": [
    "### Metadata for an item you added to AGOL\n",
    "\n",
    "For the item above, we added the absolute minimum set of properties! Ideally, we'd add more metadata. \n",
    "Lack of metadata for your GIS products leads to inability to reproduce the results and to explain the results to others!\n",
    "\n",
    "ArcGIS forces you to add some descriptions. \n",
    "\n",
    "Let's look at it in Arcgis Online!"
   ]
  },
  {
   "cell_type": "code",
   "execution_count": null,
   "metadata": {},
   "outputs": [],
   "source": [
    "# What if there is already a shapefile with this name? It's always a good idea to check...\n",
    "\n",
    "search_result = gis.content.search(query=\"california_coastline.zip\", max_items=100)\n",
    "\n",
    "# this returns a list - let's look at its content. \n",
    "# Can loop through all objects and delete.\n",
    "search_result"
   ]
  },
  {
   "cell_type": "code",
   "execution_count": null,
   "metadata": {},
   "outputs": [],
   "source": [
    "# Can delete in two ways - by referencing the ID, or via objects returned in gis.content search\n",
    "# Option 1:\n",
    "id = search_result[0].id\n",
    "print(id)\n",
    "# gis.content.get(id).delete()"
   ]
  },
  {
   "cell_type": "code",
   "execution_count": null,
   "metadata": {
    "scrolled": true
   },
   "outputs": [],
   "source": [
    "# Option 2:\n",
    "\n",
    "# gis.content.search(query=\"california_coastline.zip\")[0].delete()"
   ]
  },
  {
   "cell_type": "markdown",
   "metadata": {},
   "source": [
    "### Publishing a web layer\n",
    "\n",
    "Once a file (shapefile, csv, tile package, geodatabase, etc.) is added to Content, it can be published as a web layer, so that it can be accessed from web apps. \n",
    "#### Use item_name.publish (or click Publish in ArcGIS Online UI)"
   ]
  },
  {
   "cell_type": "code",
   "execution_count": null,
   "metadata": {
    "scrolled": true
   },
   "outputs": [],
   "source": [
    "# check if this item is already publishd as Feature layer:\n",
    "\n",
    "search_result = gis.content.search(query=\"california_coastline owner:izaslavsky_ucsd\", max_items=100, item_type=\"Feature Layer\")\n",
    "count=0\n",
    "for item in search_result:\n",
    "    print(count,item)\n",
    "    count+=1"
   ]
  },
  {
   "cell_type": "code",
   "execution_count": null,
   "metadata": {},
   "outputs": [],
   "source": [
    "# and delete, if needed:\n",
    "\n",
    "gis.content.search(query=\"california_coastline owner:izaslavsky_ucsd\", max_items=100, item_type=\"Feature Layer\")[0] #.delete()"
   ]
  },
  {
   "cell_type": "code",
   "execution_count": null,
   "metadata": {},
   "outputs": [],
   "source": [
    "coastline_feature_layer_item = gis.content.search(query=\"california_coastline.zip\",max_items=100)[0].publish({\"name\":\"CA Coastline IZ25\"})\n",
    "coastline_feature_layer_item\n",
    "\n",
    "# Let's look at it in ArcGIS Online! It is a hosted feature layer. You can do a lot more with such layers than with shapefiles\n",
    "\n",
    "# !! IMPORTANT: Can't create a service if a service with this name already exists IN ORGANIZATION. Make sure the name is unique"
   ]
  },
  {
   "cell_type": "code",
   "execution_count": null,
   "metadata": {},
   "outputs": [],
   "source": [
    "# Optional: to check if the item already exists, and delete it as needed\n",
    "\n",
    "search_result = gis.content.search(query=\"California coastline\", max_items=100)\n",
    "search_result"
   ]
  },
  {
   "cell_type": "code",
   "execution_count": null,
   "metadata": {},
   "outputs": [],
   "source": [
    "# we can delete the hosted feature layer just created:\n",
    "gis.content.search(query=\"California coastline IZ24\")[0].delete()\n"
   ]
  },
  {
   "cell_type": "code",
   "execution_count": null,
   "metadata": {},
   "outputs": [],
   "source": [
    "# let's make sure we deleted the feature layer, and still have the shapefile there\n",
    "search_result = gis.content.search(query=\"California coastline owner:izaslavsky_ucsd\", max_items=100)\n",
    "search_result"
   ]
  },
  {
   "cell_type": "markdown",
   "metadata": {},
   "source": [
    "As you could see, you can easily add or remove different types of items on AGOL. But make sure you check that you remove those items that you intended. The best way is to get item's unique IDs, and use that to delete.\n",
    "\n",
    "\n",
    "### Sharing your data\n",
    "#### You need to share the data that you want us to see (eg as part of your MP submissions)\n",
    "\n",
    "You can share with Everyone, Organization, or specific Groups.\n",
    "\n",
    "We have groups where students share their final projects. For example, \"DSC 170 Past Projects\" (https://ucsdonline.maps.arcgis.com/home/group.html?id=441a0879ccaf48a9ba6920dcd3cb2d68), or \"DSC170 Winter23 Final Projects\" (https://ucsdonline.maps.arcgis.com/home/group.html?id=6afe43c520844816bd4323d8f1a6d2ec)\n",
    "\n",
    "Projects teams can also create groups for their projects (make sure to set up groups where members can edit items from other members! This setting cannot be changed later.) You will need these groups for final projects as well. Eventually, we'll create a gallery of DSC170 final projects from  this quarter as a separate group."
   ]
  },
  {
   "cell_type": "code",
   "execution_count": null,
   "metadata": {},
   "outputs": [],
   "source": [
    "# explore the coastline_feature_layer_item:\n",
    "search_result[1]"
   ]
  },
  {
   "cell_type": "code",
   "execution_count": null,
   "metadata": {},
   "outputs": [],
   "source": [
    "coastline_feature_layer_item=gis.content.get('651d1ee2598444b994412fdcba892d39')\n",
    "coastline_feature_layer_item"
   ]
  },
  {
   "cell_type": "code",
   "execution_count": null,
   "metadata": {},
   "outputs": [],
   "source": [
    "# initially, item access is private:\n",
    "\n",
    "print(coastline_feature_layer_item.id)\n",
    "print(coastline_feature_layer_item.access)"
   ]
  },
  {
   "cell_type": "code",
   "execution_count": null,
   "metadata": {
    "scrolled": true
   },
   "outputs": [],
   "source": [
    "# Here is an example of how you can share a data item with an existing group\n",
    "\n",
    "# You can search for a group object, and then directly reference it by ID\n",
    "\n",
    "dsc170projectgroup_search = gis.groups.search(\"DSC 170 Past Projects\")\n",
    "print(dsc170projectgroup_search)\n",
    "print(dsc170projectgroup_search[0].id)\n"
   ]
  },
  {
   "cell_type": "code",
   "execution_count": null,
   "metadata": {},
   "outputs": [],
   "source": [
    "# reference an existing group by ID:\n",
    "dsc170group = gis.groups.get('441a0879ccaf48a9ba6920dcd3cb2d68')\n",
    "dsc170group"
   ]
  },
  {
   "cell_type": "markdown",
   "metadata": {},
   "source": [
    "#### Why is this important?\n",
    "When you submit a notebook as part of an assignment, and it refers to some layers that you created on AGOL - you want to share these layers with this group, so that we can run the notebook without data access issues. "
   ]
  },
  {
   "cell_type": "code",
   "execution_count": null,
   "metadata": {},
   "outputs": [],
   "source": [
    "# coastline_feature_layer_item=gis.content.get('e8678a93fcd1413aa7e287dcad948a8a')\n",
    "coastline_feature_layer_item.access\n",
    "# Here is how you share your data:\n",
    "coastline_feature_layer_item.id\n",
    "# coastline_feature_layer_item.share(everyone = True)\n",
    "# coastline_feature_layer_item.share(org=True)\n",
    "# coastline_feature_layer_item.share(everyone=False)\n",
    "\n",
    "\n",
    "# Can reference a list containing group objects, or group IDs, or group names\n",
    "# coastline_feature_layer_item.share(groups=[dsc170group])\n",
    "\n",
    "# coastline_feature_layer_item.share(groups=['DSC 170 Past Projects'])\n",
    "# coastline_feature_layer_item.share(groups=['f52c1a932d954687b7d211f0de8d4b01'])"
   ]
  },
  {
   "cell_type": "code",
   "execution_count": null,
   "metadata": {},
   "outputs": [],
   "source": [
    "coastline_feature_layer_item.access"
   ]
  },
  {
   "cell_type": "markdown",
   "metadata": {},
   "source": [
    "### A different mechanism is used to add data FROM A PANDAS DATAFRAME. \n",
    "(can also ingest ArcGIS \"Spatially Enabled DataFrame\" - more about it later)\n",
    "\n",
    "How you add such data depends on its size:\n",
    "* Small tables (less than 1000 records) can be added using gis.content.import_data(df)\n",
    "* Larger tables need to be setup as \"Spatially-Enabled Data Frames\"  (SEDF)\n",
    "\n",
    "#### Example of importing pandas dataframe:\n",
    "Let's take these iNaturalist data at \n",
    "http://suave2.sdsc.edu/main/file=suavedemos_AfriBats_iNaturalist_Photos.csv&view=map\n"
   ]
  },
  {
   "cell_type": "code",
   "execution_count": null,
   "metadata": {
    "scrolled": true
   },
   "outputs": [],
   "source": [
    "# let's try to import this dataset via gis.content.import_data \n",
    "\n",
    "import pandas as pd\n",
    "from arcgis import features\n",
    "\n",
    "csv1 = data_location +'world/afribats3.csv'\n",
    "\n",
    "afribat_data = pd.read_csv(csv1)\n",
    "print(\"Number of records : \" + str(len(afribat_data)))\n",
    "afribat_data.head()\n"
   ]
  },
  {
   "cell_type": "code",
   "execution_count": null,
   "metadata": {},
   "outputs": [],
   "source": [
    "afribat_featureservice = gis.content.import_data(\n",
    "    df=afribat_data,\n",
    "    location_type=\"coordinates\",\n",
    "    latitude_field=\"latitude#number#hidden\",\n",
    "    longitude_field=\"longitude#number#hidden\",\n",
    "    sanitize_columns=True\n",
    ")\n",
    "\n",
    "\n",
    "# this has a limit of 1000 records only!! Keep this in mind. May or may not work!"
   ]
  },
  {
   "cell_type": "code",
   "execution_count": null,
   "metadata": {},
   "outputs": [],
   "source": [
    "# if you try publishing a small fragment  - it works:\n",
    "\n",
    "afribat_data = afribat_data.dropna(subset=[\"latitude#number#hidden\", \"longitude#number#hidden\"])"
   ]
  },
  {
   "cell_type": "code",
   "execution_count": null,
   "metadata": {},
   "outputs": [],
   "source": [
    "afribat_sample = afribat_data.head(10)\n",
    "\n",
    "afribat_featureservice = gis.content.import_data(\n",
    "    df=afribat_sample,\n",
    "    location_type=\"coordinates\",\n",
    "    latitude_field=\"latitude\",\n",
    "    longitude_field=\"longitude\",\n",
    "    sanitize_columns=True\n",
    ")\n",
    "\n"
   ]
  },
  {
   "cell_type": "code",
   "execution_count": null,
   "metadata": {},
   "outputs": [],
   "source": [
    "afribat_featureservice.properties"
   ]
  },
  {
   "cell_type": "code",
   "execution_count": null,
   "metadata": {},
   "outputs": [],
   "source": [
    "# another way is to convert to Spatially-Enabled Data Frame (SEDF) first, and then publish :\n",
    "\n",
    "sdf = pd.DataFrame.spatial.from_xy(afribat_data,x_column = 'longitude#number#hidden', y_column='latitude#number#hidden')\n",
    "\n",
    "\n",
    "# Other ways to create a SEDF from pandas: from a list of addresses (from_table)\n",
    "# from feature class, from layer...\n",
    "# this is similar to GeoDataFrame in Pandas"
   ]
  },
  {
   "cell_type": "code",
   "execution_count": null,
   "metadata": {},
   "outputs": [],
   "source": [
    "# explore the content of this new table. What does it resemble?\n",
    "sdf"
   ]
  },
  {
   "cell_type": "code",
   "execution_count": null,
   "metadata": {},
   "outputs": [],
   "source": []
  },
  {
   "cell_type": "code",
   "execution_count": null,
   "metadata": {},
   "outputs": [],
   "source": [
    "# testing:\n",
    "from arcgis.features import GeoAccessor, GeoSeriesAccessor\n",
    "\n",
    "# Assuming 'sdf' is your spatially-enabled DataFrame with point geometries\n",
    "\n",
    "# Extract latitude and longitude from the SHAPE column\n",
    "sdf['lat'] = sdf['SHAPE'].apply(lambda geom: geom.y)\n",
    "sdf['lon'] = sdf['SHAPE'].apply(lambda geom: geom.x)\n",
    "\n",
    "\n"
   ]
  },
  {
   "cell_type": "code",
   "execution_count": null,
   "metadata": {},
   "outputs": [],
   "source": [
    "sdf"
   ]
  },
  {
   "cell_type": "code",
   "execution_count": null,
   "metadata": {},
   "outputs": [],
   "source": []
  },
  {
   "cell_type": "code",
   "execution_count": null,
   "metadata": {},
   "outputs": [],
   "source": [
    "# notice that internally, when creating a feature layer from a SEDF, ArcGIS first adds a shapefile, \n",
    "# and then creates a feature layer from it (refresh Content of ArcGIS Online to see)\n",
    "\n",
    "sdf_fl = sdf.spatial.to_featurelayer(title ='afriba_iz', gis=gis, tags=\"afri\", sanitize_columns=True) \n",
    "\n",
    "# this process expects a clean SDEF: all records should have lat/lon. \n",
    "# Also, shapefiles don't handle boolean variables natively, because the dBase format of .dbf files is old. \n",
    "# As a result, TRUE and FALSE are often represented as integers, or characters.\n",
    "\n",
    "# When you get an error referring to a failure of casting values as integers,this is usually because of such logical variables.\n",
    "\n",
    "# There may be more limitations. Do this publishing carefully!\n",
    "\n",
    "# sanitize_columns=True ensures that column names are 10 characters or less "
   ]
  },
  {
   "cell_type": "code",
   "execution_count": null,
   "metadata": {},
   "outputs": [],
   "source": [
    "# View the layer you just published from SEDF\n",
    "sdf_fl"
   ]
  },
  {
   "cell_type": "markdown",
   "metadata": {},
   "source": [
    "#### Do you see any problems with this procedure?\n",
    "Hint: explore the layer being created in your AGOL content, and think about their limitations."
   ]
  },
  {
   "cell_type": "markdown",
   "metadata": {},
   "source": [
    "#### Limitations of shapefiles - we already know several\n",
    "    - Size limitations: up to 2 GB.\n",
    "    - Shapefiles can only store attribute data in a single table, so you cannot store multiple tables or relationships between data in a shapefile.\n",
    "    - Coordinate precision: only six decimal places of precision.\n",
    "    - Limited geometry types: points, lines, and polygons.\n",
    "    - Limited metadata: no standard way to store metadata.\n",
    "    - Attribute tables based on DB4 structure, which has limitation, e.g., wrt column names\n"
   ]
  },
  {
   "cell_type": "code",
   "execution_count": null,
   "metadata": {
    "scrolled": true
   },
   "outputs": [],
   "source": [
    "# Now we can show this layer on a map.\n",
    "# Notice how a map gets constructed: you define the map (possibly giving a placename), add one or more layers, then display it\n",
    "\n",
    "m = gis.map()\n",
    "m.content.add(sdf_fl)\n",
    "m\n",
    "\n",
    "\n",
    "# Where is the data??"
   ]
  },
  {
   "cell_type": "code",
   "execution_count": null,
   "metadata": {},
   "outputs": [],
   "source": [
    "import arcgis.mapping\n",
    "print(dir(arcgis.mapping))\n"
   ]
  },
  {
   "cell_type": "markdown",
   "metadata": {},
   "source": [
    "### Advantages of an integrated enterprise system\n",
    "\n",
    "1. Manages a data catalog, with different types of resources accessible by different groups of people, within and outside an organization. The catalog can be searched and managed from code.\n",
    "1. Large data can be served from ArcGIS Online and servers. \n",
    "1. Several APIs for the same set of functions (Javascript, Python)\n",
    "1. Ease of data integration: can use foundational data to enrich any polygons (\"geoenrichment\") to support data analysis\n",
    "1. From desktop packages one can now interact with content of ArcGIS online and servers, and launch Jupyter notebooks. \n",
    "1. Specialization of different components used to be better defined: desktop for managing and cleaning large volumes of data, advance analysis and workflows; servers for serving data into web maps and enabling analysis over pre-built datasets. But ArcGIS Online and Python API have been developing rapidly, and adopting functions that were earlier evailable only on desktop. \n",
    "1. There are a number of application builders for different platforms and tasks. \n",
    "1. Ease of use, scalability, and professional support.\n",
    "\n",
    "But things can go wrong. For example, Web map applications (which are background layers + operational layers + tools/widgets) may be developed from independently devloped feature layers. When the layers change - web maps break. ArcGIS Python developer examples include scripts to detect that. \n"
   ]
  },
  {
   "cell_type": "markdown",
   "metadata": {},
   "source": [
    "### As earlier with Geopandas, we'll start with map drawing"
   ]
  },
  {
   "cell_type": "code",
   "execution_count": null,
   "metadata": {},
   "outputs": [],
   "source": [
    "# Towards Smart Mapping,\n",
    "# where optimal renderers are suggested by the system\n",
    "# However, the number of renderers is limited, not sufficient for a full-fledged map authoring\n",
    "# For better map authoring, use desktop systems. Eg, ArcGIS Pro can now export in Adobe Illustrator format\n",
    "\n",
    "from arcgis.geocoding import geocode\n"
   ]
  },
  {
   "cell_type": "code",
   "execution_count": null,
   "metadata": {},
   "outputs": [],
   "source": [
    "# Let's initiatlize a map, and create a map of UCSD, then draw a bike path over it\n",
    "map1 = gis.map()\n",
    "map1\n"
   ]
  },
  {
   "cell_type": "code",
   "execution_count": null,
   "metadata": {},
   "outputs": [],
   "source": [
    "map1.basemap.basemap = 'dark-gray-vector'"
   ]
  },
  {
   "cell_type": "code",
   "execution_count": null,
   "metadata": {},
   "outputs": [],
   "source": [
    "# a complete list of backgrounds\n",
    "print(map1.basemap.basemaps)"
   ]
  },
  {
   "cell_type": "code",
   "execution_count": null,
   "metadata": {
    "scrolled": true
   },
   "outputs": [],
   "source": [
    "# We will map the first of the locations returned on geocoding request for string \"UC San Diego\"\n",
    "\n",
    "location = geocode(\"UC San Diego\")[0]\n",
    "location['extent'].update({'spatialReference': {'wkid': 4326}})\n",
    "map1.extent = location['extent']\n",
    "map1.height = '800px'\n"
   ]
  },
  {
   "cell_type": "code",
   "execution_count": null,
   "metadata": {},
   "outputs": [],
   "source": [
    "# let's convert location (which is a dict - you can check it) into a layer, and add it to the map\n",
    "\n",
    "from arcgis.features import FeatureSet, Feature\n",
    "from arcgis.geometry import Geometry\n",
    "\n",
    "# Extract geometry and attributes\n",
    "geometry = {\n",
    "    \"x\": location[\"location\"][\"x\"],\n",
    "    \"y\": location[\"location\"][\"y\"],\n",
    "    \"spatialReference\": {\"wkid\": 4326},\n",
    "}\n",
    "\n",
    "attributes = location[\"attributes\"]\n",
    "\n",
    "# Create a Feature\n",
    "feature = Feature(geometry=geometry, attributes=attributes)\n",
    "\n",
    "# Create a FeatureSet\n",
    "feature_set = FeatureSet([feature])"
   ]
  },
  {
   "cell_type": "code",
   "execution_count": null,
   "metadata": {},
   "outputs": [],
   "source": [
    "map1.content.add(feature_set)"
   ]
  },
  {
   "cell_type": "markdown",
   "metadata": {},
   "source": [
    "# Mapping in 3D"
   ]
  },
  {
   "cell_type": "code",
   "execution_count": null,
   "metadata": {},
   "outputs": [],
   "source": [
    "from arcgis.map import Scene"
   ]
  },
  {
   "cell_type": "code",
   "execution_count": null,
   "metadata": {},
   "outputs": [],
   "source": [
    "scene1 = Scene()\n",
    "scene1"
   ]
  },
  {
   "cell_type": "code",
   "execution_count": null,
   "metadata": {},
   "outputs": [],
   "source": [
    "world_countries_item = gis.content.get('ac80670eb213440ea5899bbf92a04998')\n",
    "world_countries_layer = world_countries_item.layers[0]\n",
    "world_countries_layer"
   ]
  },
  {
   "cell_type": "code",
   "execution_count": null,
   "metadata": {},
   "outputs": [],
   "source": [
    "scene1.content.add(world_countries_layer)"
   ]
  },
  {
   "cell_type": "code",
   "execution_count": null,
   "metadata": {},
   "outputs": [],
   "source": [
    "# now, let's add UCSD there\n",
    "\n",
    "# Extract geocoded data into a Pandas DataFrame\n",
    "data = {\n",
    "    \"address\": [location[\"address\"]],\n",
    "    \"x\": [location[\"location\"][\"x\"]],\n",
    "    \"y\": [location[\"location\"][\"y\"]],\n",
    "    **location[\"attributes\"]\n",
    "}\n",
    "df = pd.DataFrame(data)\n",
    "\n",
    "# Convert Pandas DataFrame to a Spatially-Enabled DataFrame\n",
    "sedf = GeoAccessor.from_xy(df, x_column=\"x\", y_column=\"y\", sr=4326)"
   ]
  },
  {
   "cell_type": "code",
   "execution_count": null,
   "metadata": {},
   "outputs": [],
   "source": [
    "# Convert the SEDF into a Feature Layer\n",
    "feature_layer = sedf.spatial.to_featurelayer(title=\"Geocoded Point Layer\")"
   ]
  },
  {
   "cell_type": "code",
   "execution_count": null,
   "metadata": {},
   "outputs": [],
   "source": [
    "# and add it to the scene\n",
    "scene1.content.add(feature_layer)"
   ]
  },
  {
   "cell_type": "code",
   "execution_count": null,
   "metadata": {},
   "outputs": [],
   "source": [
    "# What layers are shown on a map or a scene?\n",
    "\n",
    "for idx,lyr in enumerate(scene1.content.layers):\n",
    "    print(f\"{idx:<6}{lyr}\")"
   ]
  },
  {
   "cell_type": "code",
   "execution_count": null,
   "metadata": {},
   "outputs": [],
   "source": [
    "# let's remove this layer\n",
    "scene1.content.remove(0)"
   ]
  },
  {
   "cell_type": "markdown",
   "metadata": {},
   "source": [
    "## Example of adding geometry to pandas df and then publishing on ArcGIS Online"
   ]
  },
  {
   "cell_type": "code",
   "execution_count": null,
   "metadata": {},
   "outputs": [],
   "source": [
    "map2 = gis.map()\n",
    "map2"
   ]
  },
  {
   "cell_type": "code",
   "execution_count": null,
   "metadata": {},
   "outputs": [],
   "source": [
    "world_sdg1 = pd.read_csv(data_location+'world/Global_Index_Data_subset.csv')\n",
    "world_sdg1\n",
    "\n",
    "# But we don't have any spatial data here! What to do?\n",
    "\n"
   ]
  },
  {
   "cell_type": "code",
   "execution_count": null,
   "metadata": {},
   "outputs": [],
   "source": [
    "# let's find some world map by countries using gis.content.search\n",
    "result = gis.content.search('title: World Countries (Generalized)' , item_type=\"Feature Layer\", outside_org=True, max_items=30)\n",
    "result\n",
    "from IPython.display import display\n",
    "counter = 0\n",
    "for item in result:\n",
    "    print(counter)\n",
    "    display(item)\n",
    "    counter+=1"
   ]
  },
  {
   "cell_type": "code",
   "execution_count": null,
   "metadata": {},
   "outputs": [],
   "source": [
    "# let's grab the layer with  3-character country identifier\n",
    "# and add it to the map\n",
    "\n",
    "countries = result[0]\n",
    "map2.content.add(countries)\n",
    "\n",
    "\n",
    "# Good! We can use this layer. Now we just need to merge data from our pandas dataframe to this layer. \n",
    "# What variable to merge on?"
   ]
  },
  {
   "cell_type": "code",
   "execution_count": null,
   "metadata": {},
   "outputs": [],
   "source": [
    "# First, we move the spatial data from the found layer, into SEDF:\n",
    "\n",
    "countries_df = pd.DataFrame.spatial.from_layer(countries.layers[0])"
   ]
  },
  {
   "cell_type": "code",
   "execution_count": null,
   "metadata": {
    "scrolled": true
   },
   "outputs": [],
   "source": [
    "countries_df.head()"
   ]
  },
  {
   "cell_type": "code",
   "execution_count": null,
   "metadata": {},
   "outputs": [],
   "source": [
    "cm2 = countries_df.merge(world_sdg1,on='ISO_3DIGIT').spatial\n",
    "\n",
    "# Note that by adding \".spatial\" we declare cm2 a SEDF"
   ]
  },
  {
   "cell_type": "code",
   "execution_count": null,
   "metadata": {},
   "outputs": [],
   "source": [
    "cm2\n"
   ]
  },
  {
   "cell_type": "code",
   "execution_count": null,
   "metadata": {},
   "outputs": [],
   "source": [
    "print(type(cm2))"
   ]
  },
  {
   "cell_type": "code",
   "execution_count": null,
   "metadata": {},
   "outputs": [],
   "source": [
    "# since this is a SEDF, we can plot it directly, then add rendering \n",
    "\n",
    "map3 = gis.map()\n",
    "cm2.plot(map_widget=map3)"
   ]
  },
  {
   "cell_type": "code",
   "execution_count": null,
   "metadata": {},
   "outputs": [],
   "source": [
    "# Smart Mapping simplifies rendering:\n",
    "renderer_manager = map3.content.renderer(0)\n",
    "smm = renderer_manager.smart_mapping()\n",
    "smm.class_breaks_renderer(break_type=\"size\", field=\"GDP_per_capita_2016\") \n",
    "\n",
    "# that showed the map with graduated symbols"
   ]
  },
  {
   "cell_type": "code",
   "execution_count": null,
   "metadata": {},
   "outputs": [],
   "source": [
    "renderer_manager = map3.content.renderer(0)\n",
    "smm = renderer_manager.smart_mapping()\n",
    "smm.class_breaks_renderer(break_type=\"color\", field=\"GDP_per_capita_2016\", classification_method=\"natural-breaks\", num_classes=5) \n",
    "\n",
    "# that showes a  choropleth map using color values\n",
    "# classification_method: equal-interval, quantile, natural-breaks, standard-deviation"
   ]
  },
  {
   "cell_type": "code",
   "execution_count": null,
   "metadata": {},
   "outputs": [],
   "source": [
    "map3.legend.enabled=True"
   ]
  },
  {
   "cell_type": "code",
   "execution_count": null,
   "metadata": {},
   "outputs": [],
   "source": [
    "map3"
   ]
  },
  {
   "cell_type": "code",
   "execution_count": null,
   "metadata": {
    "scrolled": true
   },
   "outputs": [],
   "source": [
    "# In the previous cell, we plotted cm2 and added it to map3.\n",
    "# Another mechanism is adding feature layers to the map, as before.\n",
    "\n",
    "map4 = gis.map(\"San Diego, CA\")\n",
    "map4\n",
    "\n"
   ]
  },
  {
   "cell_type": "code",
   "execution_count": null,
   "metadata": {},
   "outputs": [],
   "source": [
    "\n",
    "map4.basemap.basemap = \"dark-gray-vector\"\n"
   ]
  },
  {
   "cell_type": "code",
   "execution_count": null,
   "metadata": {},
   "outputs": [],
   "source": [
    "map4.basemap.basemaps"
   ]
  },
  {
   "cell_type": "code",
   "execution_count": null,
   "metadata": {},
   "outputs": [],
   "source": []
  }
 ],
 "metadata": {
  "kernelspec": {
   "display_name": "Python 3 (ipykernel)",
   "language": "python",
   "name": "python3"
  },
  "language_info": {
   "codemirror_mode": {
    "name": "ipython",
    "version": 3
   },
   "file_extension": ".py",
   "mimetype": "text/x-python",
   "name": "python",
   "nbconvert_exporter": "python",
   "pygments_lexer": "ipython3",
   "version": "3.11.9"
  },
  "toc": {
   "base_numbering": 1,
   "nav_menu": {},
   "number_sections": true,
   "sideBar": true,
   "skip_h1_title": true,
   "title_cell": "Table of Contents",
   "title_sidebar": "Contents",
   "toc_cell": false,
   "toc_position": {},
   "toc_section_display": true,
   "toc_window_display": false
  }
 },
 "nbformat": 4,
 "nbformat_minor": 4
}
