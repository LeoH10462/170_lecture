{
 "cells": [
  {
   "cell_type": "markdown",
   "metadata": {},
   "source": [
    "<h1><b>DSC 170: Lecture 4. Advanced Operations and Spatial Data Structures (Geopandas - 3) </b></h1>\n",
    "\n",
    "This lecture will cover:\n",
    "\n",
    "- Set-operations with overlay  \n",
    "    - We will see a common research scenario that relies on difference overlay and spatial join\n",
    "- Examining valid and invalid geometries  \n",
    "    - Some operations require valid geometries, and Geopandas provides a simple validity check  \n",
    "    - What is an invalid geometry? It violates some properties, eg non-intersection of boundaries of a polygon\n",
    "- Spatial data structures  \n",
    "    - There are several vector data structures, with different levels of complexity and compactness  \n",
    "    - They may provide integrity constraints to validate geometric objects  \n",
    "    - Need to understand topological rules\n",
    "- Accuracy of spatial data, and metadata standards  \n",
    "    - There are 5 components of data quality report, as part of spatial metadata\n",
    "- Geocoding  \n",
    "    - Different geocoding providersaccessed via GeoPy may produce different results\n",
    "    - Might use them in sequence\n",
    "\n",
    "Please follow links embedded in the lecture - especially the slideshare one\n",
    "\n",
    "\n"
   ]
  },
  {
   "attachments": {
    "image.png": {
     "image/png": "[encoded data removed]"
    }
   },
   "cell_type": "markdown",
   "metadata": {},
   "source": [
    "## Overlay in Geopandas\n",
    "\n",
    "Overlays are a common operation in GIS and spatial analysis, and are useful for tasks such as finding the common area shared by multiple features, combining features to create a new, more complex object, or identifying the areas where two or more features differ. They can be performed using the overlay function in Geopandas.\n",
    "\n",
    "Overlay operations will create a new GeoDataFrame based on spatial overlap between objects in two input GeoDataFrames. Properties from both input GDFs are retained in the resultant GDF.\n",
    "\n",
    "**Key difference compared with spatial join: spatial join doesn't create new features, it only attaches attributes from one GDF to another GDF where records are matched based on a spatial relationship. Overlay creates a set of new spatial features.**\n",
    "\n",
    "\n",
    "![image.png](attachment:image.png)\n",
    "\n",
    "Let's explore it.\n",
    "\n",
    "**Import geopandas, set data location, import overlay**"
   ]
  },
  {
   "cell_type": "code",
   "execution_count": null,
   "metadata": {},
   "outputs": [],
   "source": [
    "%matplotlib inline \n",
    "\n",
    "import os\n",
    "os.environ['USE_PYGEOS'] = '0'\n",
    "\n",
    "import geopandas \n",
    "import pandas as pd\n",
    "\n",
    "import os\n",
    "current_dir = os.getcwd()\n",
    "print(current_dir)\n",
    "geopandas.__version__\n"
   ]
  },
  {
   "cell_type": "code",
   "execution_count": null,
   "metadata": {},
   "outputs": [],
   "source": [
    "# set data location (uncomment one of them)\n",
    "data_location = os.environ[\"HOME\"]+\"/public/datasets/\"  # in the shared datahub \n",
    "# data_location = \"../../8. Data/\"    # on my local install"
   ]
  },
  {
   "cell_type": "code",
   "execution_count": null,
   "metadata": {},
   "outputs": [],
   "source": [
    "from geopandas.tools import overlay"
   ]
  },
  {
   "cell_type": "markdown",
   "metadata": {},
   "source": [
    "### Preparing data frames for overlay\n",
    "\n",
    "In this example, we will find areas around observation decks within parks:\n",
    "- construct a geodataframe with observation decks as points\n",
    "- map both geodataframes, make sure they are in the same coordinate system\n",
    "- create distance buffers around observation decks\n",
    "- exclude observation deck buffers from park areas, using overlay"
   ]
  },
  {
   "cell_type": "code",
   "execution_count": null,
   "metadata": {},
   "outputs": [],
   "source": [
    "# Let's continue our experimentation with SD Parks, and locations in or near parks \n",
    "\n",
    "shpFileIn = data_location +'sandiego/parks/PARKS.shp'\n",
    "sd_parks = geopandas.read_file(shpFileIn)\n"
   ]
  },
  {
   "cell_type": "code",
   "execution_count": null,
   "metadata": {},
   "outputs": [],
   "source": [
    "from shapely.geometry import Point\n",
    "df = pd.DataFrame(\n",
    "    {'Proposed observation decks': ['Location 1', 'Location 2', 'Location 3', 'Location 4'],\n",
    "     'Latitude': [32.9, 33.0, 33.25, 33.4],\n",
    "     'Longitude': [-116.25,-116.35, -116.00, -116.50]})"
   ]
  },
  {
   "cell_type": "code",
   "execution_count": null,
   "metadata": {
    "scrolled": true
   },
   "outputs": [],
   "source": [
    "# once we have a dataframe, let's construct geometry, declare it as a geometry column\n",
    "# then define a CRS, and a CRS to project to\n",
    "\n",
    "df['Coordinates'] = list(zip(df.Longitude, df.Latitude))\n",
    "df['Coordinates'] = df['Coordinates'].apply(Point)\n",
    "new_locations = geopandas.GeoDataFrame(df, geometry='Coordinates')\n",
    "new_locations.crs = 'epsg:4326'\n",
    "new_locations_2230 = new_locations.to_crs('epsg:2230')\n"
   ]
  },
  {
   "cell_type": "code",
   "execution_count": null,
   "metadata": {},
   "outputs": [],
   "source": [
    "# and then map both the parks and the new layer of observation decks\n",
    "\n",
    "new_map = sd_parks.plot(figsize=(10,10), column = 'OWNERSHIP', legend = False)\n",
    "new_locations_2230.plot(ax=new_map, legend = True,marker='o', color='black', markersize=100)"
   ]
  },
  {
   "cell_type": "code",
   "execution_count": null,
   "metadata": {
    "scrolled": true
   },
   "outputs": [],
   "source": [
    "# let's say, area around observation decks should be managed differently than the rest of the parks. \n",
    "# We need to exclude it from the parks, and estimate the remaining area \n",
    "\n",
    "new_locations_buffer = new_locations_2230.buffer(15000)\n",
    "map1 = sd_parks.plot(figsize=(10,10), color='red')\n",
    "new_locations_buffer.plot(ax=map1, color='black')\n",
    "\n",
    "# Notice the 4 big black circles: these are 15000 feet buffers around our points (observation decks)"
   ]
  },
  {
   "cell_type": "code",
   "execution_count": null,
   "metadata": {},
   "outputs": [],
   "source": [
    "# let's try polygon overlay with \"difference\"\n",
    "\n",
    "parks_with_holes = geopandas.overlay(sd_parks, new_locations_buffer, how='difference')\n"
   ]
  },
  {
   "cell_type": "markdown",
   "metadata": {},
   "source": [
    "### Why do we get an error?"
   ]
  },
  {
   "cell_type": "code",
   "execution_count": null,
   "metadata": {},
   "outputs": [],
   "source": [
    "# overlay requires GeoDataFrames! Let's check if they are indeed GDFs:\n",
    "# first, the sd_parks: \n",
    "type(sd_parks)"
   ]
  },
  {
   "cell_type": "code",
   "execution_count": null,
   "metadata": {},
   "outputs": [],
   "source": [
    "# then, the new_locations:\n",
    "type(new_locations_buffer)"
   ]
  },
  {
   "cell_type": "code",
   "execution_count": null,
   "metadata": {},
   "outputs": [],
   "source": [
    "# The buffer operation generated a GeoSeries!\n",
    "\n",
    "# Creating a GDF from a GeoSeries:\n",
    "\n",
    "new_locations_buffer_gdf = geopandas.GeoDataFrame(new_locations_buffer, geometry=new_locations_buffer)\n"
   ]
  },
  {
   "cell_type": "code",
   "execution_count": null,
   "metadata": {},
   "outputs": [],
   "source": [
    "# let's try it again:\n",
    "\n",
    "parks_with_holes = geopandas.overlay(sd_parks, new_locations_buffer_gdf, how='difference')\n"
   ]
  },
  {
   "cell_type": "code",
   "execution_count": null,
   "metadata": {},
   "outputs": [],
   "source": [
    "parks_with_holes.head()"
   ]
  },
  {
   "cell_type": "code",
   "execution_count": null,
   "metadata": {},
   "outputs": [],
   "source": [
    "# and now, create a \"difference\" map\n",
    "\n",
    "m2 = parks_with_holes.plot(figsize=(10,10))\n",
    "new_locations_2230.plot(ax=m2, marker='o', color='red', markersize=50)"
   ]
  },
  {
   "cell_type": "code",
   "execution_count": null,
   "metadata": {},
   "outputs": [],
   "source": [
    "# How would you do this if you just need geometries of 15000 buffers within parks? \n",
    "\n",
    "observed_parks = <your code here>\n",
    "observed_parks.plot()"
   ]
  },
  {
   "cell_type": "markdown",
   "metadata": {},
   "source": [
    "### This approach is used in many scenarios. \n",
    "\n",
    "For example, you want to find areas that are further away from major hospitals, and then identify which income and ethnic groups are relatively underserved within the county (based on lower accessibility to hospitals). \n",
    "\n",
    "You have hospital locations as a gdf, and county polygon as another gdf. \n",
    "- The first step is to create buffers around the hospital points (say, 20-min drive, or 10-mile distance.) \n",
    "- Then you can compute the \"difference\" overlay: subtract these buffers from the \"county\" polygon. These are the underserved areas.\n",
    "- Then you can do further analysis, e.g. identify census tracts or block groups or zip codes that are within the well-served areas, and within the underserved areas (HOW? Recall the previous lecture!). Retrieve ethnic and income indicators for both types of areas, and figure out if the differences are significant.\n",
    "\n",
    "That approach was used in one of DSC170 final projects: https://drive.google.com/file/d/1mR4U26LTzhLKWmHEZ9eJgYK8IW6Fy1z8/view?usp=sharing\n",
    "\n",
    "__Can you think of additional scenarios?__"
   ]
  },
  {
   "cell_type": "markdown",
   "metadata": {},
   "source": [
    "## Valid and invalid geometries\n",
    "\n",
    "Recall what we did in the earlier notebooks using Geopandas. One of the requests was to find adjacent parks (or counties, or other objects that should have shared boundaries). Geopandas could not establish topological adjacency: \n",
    "\n",
    "```python\n",
    "adjacent = sd_parks_dis.touches(sd_parks_dis.shift())\n",
    "```\n",
    "\n",
    "failed, but returned some intersections: \n",
    "```python\n",
    "intersect = sd_parks_dis.intersects(sd_parks_dis.shift()) \n",
    "```\n",
    "Is this a good result? How accurate do we expect the boundaries to be? Is the accuracy known, at least for government spatial data? It's complicated, and approaches to describing accuracy have evolved. For example, positional accuracy in map production: from National Map Accuracy Standard (eg \"90% of well-defined points within .02”, with map producers responsible for making an accurate map), to standards where data producers should report elements of data quality (as completely as possible) and users are responsible for evaluating fitness for purpose. We'll cover that in more detail later, but first will talk about __geometric validity__. \n",
    "\n",
    "A **valid geometry** is a geometric object (such as a point, line, or polygon) that satisfies the rules of geometric construction and topological relationships.\n",
    "\n",
    "For example:\n",
    "\n",
    "    - A line must have at least two coordinate pairs and must not self-intersect (*)\n",
    "    - A polygon must have at least three coordinate pairs and must not have self-intersections or holes. The first and last coordinate pairs must also be the same, indicating that the polygon is closed.\n",
    "    - A multi-part geometry (such as a multi-point, multi-line, or multi-polygon) must have at least one part and must not have any overlapping or intersecting parts.\n",
    "\n",
    "\n",
    "<i>(*) This is merely an example of a rule, often enforced in ArcGIS for specific applications. There are also tools to find and repair self-intersecting lines. But self-intersecting lines are perfectly fine from the perspetive of the OGC Simple Features spec. In the OGC \"Simple Features\" spec (and in Geopandas), point or line geometries cannot be invalid. \n",
    "\n",
    "Further into the woods: a self-intersecting line is an example of a non-simple feature. Geopandas doesn't distinguish between simple and non-simple features.\n",
    "</i>\n",
    "\n",
    "Some examples of errors: https://www.gislounge.com/gis-data-a-look-at-accuracy-precision-and-types-of-errors/. In Geopandas, we can check for geometric validity (basically, if it complies with OGC simple features); if not some operations would fail (eg dissolve):\n",
    "\n",
    "```python\n",
    "GeoSeries.is_valid\n",
    "Returns a Series of dtype('bool') with value True for geometries that are valid.\n",
    "```\n",
    "\n",
    "Uncertainty is inherent in location measurement (more about it later in this lecture). But at least we can try to make the geometries valid. "
   ]
  },
  {
   "cell_type": "markdown",
   "metadata": {},
   "source": [
    "### Experiment with polygons at http://geojson.io\n",
    "We'll create a couple polygons that are a bit more complex than what you saw earlier. And then see if they have valid geometry. Note that you can save geojson and topojson. "
   ]
  },
  {
   "cell_type": "code",
   "execution_count": null,
   "metadata": {},
   "outputs": [],
   "source": [
    "# Let's draw a few moderately compex polygons in GeoJSON.io, and paste the fragments below\n",
    "gjson = '''\n",
    "{\n",
    "  \"type\": \"FeatureCollection\",\n",
    "  \"features\": [\n",
    "    {\n",
    "      \"type\": \"Feature\",\n",
    "      \"properties\": {},\n",
    "      \"geometry\": {\n",
    "        \"coordinates\": [\n",
    "          [\n",
    "            -117.14429336903922,\n",
    "            35.24667991988589\n",
    "          ],\n",
    "          [\n",
    "            -115.77095699973015,\n",
    "            35.7454018687754\n",
    "          ],\n",
    "          [\n",
    "            -115.45479323125615,\n",
    "            34.85034412807504\n",
    "          ],\n",
    "          [\n",
    "            -117.13441325127432,\n",
    "            34.85845182176223\n",
    "          ]\n",
    "        ],\n",
    "        \"type\": \"LineString\"\n",
    "      }\n",
    "    },\n",
    "    {\n",
    "      \"type\": \"Feature\",\n",
    "      \"properties\": {},\n",
    "      \"geometry\": {\n",
    "        \"coordinates\": [\n",
    "          [\n",
    "            -114.47666157253948,\n",
    "            35.67319897431048\n",
    "          ],\n",
    "          [\n",
    "            -112.67848013934334,\n",
    "            35.889611307010725\n",
    "          ],\n",
    "          [\n",
    "            -112.89584273016912,\n",
    "            34.566072106045425\n",
    "          ],\n",
    "          [\n",
    "            -114.0419363908875,\n",
    "            35.99359954893734\n",
    "          ],\n",
    "          [\n",
    "            -114.25929898171368,\n",
    "            35.448149912404844\n",
    "          ],\n",
    "          [\n",
    "            -112.44135731298773,\n",
    "            35.49642789644956\n",
    "          ]\n",
    "        ],\n",
    "        \"type\": \"LineString\"\n",
    "      }\n",
    "    },\n",
    "    {\n",
    "      \"type\": \"Feature\",\n",
    "      \"properties\": {},\n",
    "      \"geometry\": {\n",
    "        \"coordinates\": [\n",
    "          [\n",
    "            [\n",
    "              -114.73354463442448,\n",
    "              34.02736629925879\n",
    "            ],\n",
    "            [\n",
    "              -114.67426392783587,\n",
    "              33.2624452989284\n",
    "            ],\n",
    "            [\n",
    "              -112.67848013934334,\n",
    "              33.295484762328954\n",
    "            ],\n",
    "            [\n",
    "              -114.0221761553581,\n",
    "              34.411344433601556\n",
    "            ],\n",
    "            [\n",
    "              -114.73354463442448,\n",
    "              34.02736629925879\n",
    "            ]\n",
    "          ]\n",
    "        ],\n",
    "        \"type\": \"Polygon\"\n",
    "      }\n",
    "    },\n",
    "    {\n",
    "      \"type\": \"Feature\",\n",
    "      \"properties\": {},\n",
    "      \"geometry\": {\n",
    "        \"coordinates\": [\n",
    "          [\n",
    "            -111.93747130698225,\n",
    "            34.74487143532426\n",
    "          ],\n",
    "          [\n",
    "            -110.59377529096749,\n",
    "            35.068971150309636\n",
    "          ],\n",
    "          [\n",
    "            -110.1590501093155,\n",
    "            34.15010259304455\n",
    "          ],\n",
    "          [\n",
    "            -111.55214671415438,\n",
    "            35.109393588780236\n",
    "          ],\n",
    "          [\n",
    "            -110.31713199355269,\n",
    "            34.7611067846083\n",
    "          ],\n",
    "          [\n",
    "            -111.36442447662289,\n",
    "            33.86344141180312\n",
    "          ],\n",
    "          [\n",
    "            -112.07579295568965,\n",
    "            34.574207713064254\n",
    "          ]\n",
    "        ],\n",
    "        \"type\": \"LineString\"\n",
    "      }\n",
    "    },\n",
    "    {\n",
    "      \"type\": \"Feature\",\n",
    "      \"properties\": {},\n",
    "      \"geometry\": {\n",
    "        \"coordinates\": [\n",
    "          [\n",
    "            [\n",
    "              -111.06802094367866,\n",
    "              36.264921108602636\n",
    "            ],\n",
    "            [\n",
    "              -109.16115821506942,\n",
    "              35.94562197833352\n",
    "            ],\n",
    "            [\n",
    "              -111.63118765627277,\n",
    "              35.905618402839366\n",
    "            ],\n",
    "            [\n",
    "              -110.69257646861568,\n",
    "              35.625027387616825\n",
    "            ],\n",
    "            [\n",
    "              -110.17881034484529,\n",
    "              36.57498604251708\n",
    "            ],\n",
    "            [\n",
    "              -109.4970822190732,\n",
    "              35.67319897431048\n",
    "            ],\n",
    "            [\n",
    "              -109.52672257236752,\n",
    "              36.47176864660999\n",
    "            ],\n",
    "            [\n",
    "              -111.06802094367866,\n",
    "              36.264921108602636\n",
    "            ]\n",
    "          ]\n",
    "        ],\n",
    "        \"type\": \"Polygon\"\n",
    "      }\n",
    "    }\n",
    "  ]\n",
    "}'''\n"
   ]
  },
  {
   "cell_type": "code",
   "execution_count": null,
   "metadata": {},
   "outputs": [],
   "source": [
    "# Notice that geojson.io doesn't handle complex polys well.\n",
    "\n",
    "myfeatures = geopandas.read_file(gjson)\n",
    "\n",
    "print(len(myfeatures))\n",
    "# myfeatures = geopandas.read_file(tjson)\n",
    "for i in range(len(myfeatures)):\n",
    "    print(myfeatures.loc[i,'geometry'].is_valid)\n",
    "\n",
    "myfeatures.plot()\n"
   ]
  },
  {
   "attachments": {
    "image.png": {
     "image/png": "[encoded data removed]"
    }
   },
   "cell_type": "markdown",
   "metadata": {},
   "source": [
    "### Polygon representation (OGC Simple Features)\n",
    "\n",
    "The OGC Simple Features spec supports polygons that can have multiple part, holes, islands. This is done by describing polygons as bounded by linear rings with different direction of vertices: one clockwise exterior ring, and zero or more counterclockwise interior rings describing holes.\n",
    "\n",
    "```python\n",
    "Help on Polygon in module shapely.geometry.polygon object:\n",
    "     class Polygon(shapely.geometry.base.BaseGeometry)\n",
    "      |  A two-dimensional figure bounded by a linear ring\n",
    "      |\n",
    "      |  A polygon has a non-zero area. It may have one or more negative-space\n",
    "      |  \"holes\" which are also bounded by linear rings. If any rings cross each\n",
    "      |  other, the feature is invalid and operations on it may fail.\n",
    "      |\n",
    "      |  Attributes\n",
    "      |  ----------\n",
    "      |  exterior : LinearRing\n",
    "      |      The ring which bounds the positive space of the polygon.\n",
    "      |  interiors : sequence\n",
    "      |      A sequence of rings which bound all existing holes.\n",
    "    \n",
    "```\n",
    "![image.png](attachment:image.png)\n",
    "\n"
   ]
  },
  {
   "cell_type": "markdown",
   "metadata": {},
   "source": [
    "In some applications geometric accuracy is very important! \n",
    "For example, parcel management: if non-zero intersection between adjacent parcels, you end up in court! \n",
    "\n",
    "But how do you ensure that geometries are correct? Need to specify rules for geometric correctness based on topological relationships --> topological data structures. \n"
   ]
  },
  {
   "cell_type": "markdown",
   "metadata": {},
   "source": [
    "## Elementary Spatial Data Structures: introduction \n",
    "\n",
    "Spatial data structures are techniques used to store and organize spatial data in a way that is efficient and suitable for spatial analysis and mapping. \n",
    "\n",
    "\n",
    "### Vector and Raster - two main types\n",
    "* Representation of geographic information:\n",
    "    * **Raster**: location controlled, attribute measured\n",
    "        * values are stored in ordered array, so that  position in the array defines geographic location\n",
    "        * often from imagery sources, not good for lines and objects smaller than resolution (think of 0-D objects, now they have areas? Better for larger areas)\n",
    "        * well-suited for representing continuous data, such as elevation or land cover.\n",
    "    * **Vector**: attribute controlled, location measured\n",
    "        * used to store and represent spatial data as discrete geometric objects, such as points, lines, or polygons.\n",
    "        * geographic coordinates are typically stored separately from attributes, connected with identifiers\n",
    "        * well-suited for representing discrete data, such as land parcels or transportation networks\n",
    "    * Trade-offs: \n",
    "    \n",
    "        - \"Yes, raster is faster but raster is vaster \n",
    "        - And vector just seems more corrector\"\n",
    "        \n",
    "    * Is this still an issue? YES - because they represent different types of measurement with different statistical properties. Often need both.\n",
    "        \n",
    "        \n",
    "Also, there are **object-based** data structures: used to store and represent spatial data as a set of discrete objects, each with its own set of attributes. Used in object-oriented GIS.\n",
    "        \n",
    "### Vector data structures, historically:\n",
    "* trends: \n",
    "    * increasing complexity, refining logic; \n",
    "    * making geographic relationships EXPLICIT\n",
    "* Spaghetti files (1974...)\n",
    "    * the original CIA format\n",
    "    * lines and points which the reader must organize\n",
    "    * \"spaghetty and meatballs\" is an extension (with label points)\n",
    "* Polygon loops (location lists):\n",
    "    * polygons stored as objects, polygon shading is easy, IF CORRECT!\n",
    "    * problems: common line defined twice; slivers between adjacent polygons because boundaries not necessarily the same\n",
    "* Point dictionary\n",
    "    * polygon descriptions refer to lists of fixed points with coordinates (point dictionaries)\n",
    "    * similar to polygon loops, but instead of coordinates of vertices in polygon descriptions - IDs of vertices\n",
    "* Topological data structure\n",
    "    * Implemented in Census Bureau's DIME (Dual Independent Map Encoding) and later TIGER (Topologically Integrated Geographic Encoding and Referencing) files; used as the basis for geoprocessing in Odyssey GIS, which became the template for many modern GIS (https://en.wikipedia.org/wiki/Harvard_Laboratory_for_Computer_Graphics_and_Spatial_Analysis); \n",
    "    * Organizes Points, Lines, and Areas as Nodes, Chains, and Polygons\n",
    "    * The model: nodes bound chains, chains co-bound polygons; chains co-bound nodes, polygons co-bound chains...\n",
    "    * the structure stores topological relationships between nodes, chains, and polygons; these relationships are used in defining chains through nodes, polygons through chains, etc. \n",
    "    * Provides for contiguity, better quality control. Another major purpose: enables powerful spatial analysis (eg adjacency is just a lookup)\n",
    "(see https://slideplayer.com/slide/4737156/ - these are from my old lectures! see slides 15 and on, can skip 18-19). A simplified algorithm for building topology from GeoJSON geometries is described in https://bost.ocks.org/mike/topology/\n",
    "\n",
    "### Geometric Errors, Topologically Identifiable on a single layer\n",
    "* forgotten nodes\n",
    "* missing polygon label points\n",
    "* overshoots\n",
    "* undershoots\n",
    "* duplicate arcs\n",
    "* two or more label points in one polygon\n",
    "* two nodes do not match\n",
    "* knots (unintentional line crossings)\n",
    "* missing lines\n",
    "* wild (extra) lines\n",
    "\n",
    "### Multi-layer quality control\n",
    "For example:  \n",
    "- points must be inside polygons, or on lines from a different layer (e.g., gauge stations on streams)  \n",
    "- polygons must not overlap (e.g., building footprints must be completely within parcel boundaries);  \n",
    "- lines must not cross\n",
    "\n",
    "Recent GIS software (eg ArcGIS) supports specific and granular topological rules. For example, imagine that you managing parcel information (property lots) and need to make sure that parcels are not in conflict with sidewalks, building footprints, zoning, etc. This may result in rules such as:  \n",
    "- Lots must be valid (closed, without intesecting boundaries) polygons\n",
    "- Building footprint must be  __within__ a lot\n",
    "- Sidewalks must be outside (__disjoint__ or __touch__) lot polygons\n",
    "- Lots must be __within__ a single zone on a zoning map\n",
    "- Lots must __touch__ either another lot or city land (eg sidewalks).\n"
   ]
  },
  {
   "cell_type": "markdown",
   "metadata": {},
   "source": [
    "## GeoJSON and TopoJSON\n",
    "\n",
    "GeoJSON is an open standard format designed for representing simple geographical features, along with their non-spatial attributes.\n",
    "\"TopoJSON is an extension of GeoJSON that encodes topology. Rather than representing geometries discretely, geometries in TopoJSON files are stitched together from shared line segments called arcs. TopoJSON eliminates redundancy, offering much more compact representations of geometry than with GeoJSON; typical TopoJSON files are 80% smaller than their GeoJSON equivalents. In addition, TopoJSON facilitates applications that use topology, such as topology-preserving shape simplification, automatic map coloring, and cartograms.\" (from https://github.com/topojson/topojson/blob/master/README.md. Also see https://github.com/topojson/topojson/wiki) \n",
    "\n",
    "TopoJSON: \n",
    "* Smaller file size because doesn't store duplicate geometries \n",
    "* can encode multiple related geometries\n",
    "* can use delta-endocing for integer coordinates --> smaller file size\n",
    "* less potential for errors\n",
    "* but: more expensive rendering and operations where feature geometries are treated independently\n",
    "\n"
   ]
  },
  {
   "cell_type": "markdown",
   "metadata": {},
   "source": [
    "## Accuracy of spatial data\n",
    "\n",
    "### Different frameworks for describing error\n",
    "\n",
    "Error is difference between the true value, and measured or perceived value (is there a problem with this definition?)\n",
    "\n",
    "* Communication model:\n",
    "    * Error is difference between message received by map reader, and the “Real World” \n",
    "    * Why error? Encoding and decoding graphic message (depends on cartographer’s skills, and map reader’s skills)\n",
    "        * Phil Gersmehl's classic paper \"The data, the reader, and the innocent bystander - a parable for map users\", 1985 (https://www.researchgate.net/publication/227688283_The_data_the_reader_and_the_innocent_bystander_-_a_parable_for_map_users): how from a coarse-resolution dot maps that showed the general distributions of soil orders in the 48 states it became a “Principal Peatlands of the United State\" map in a planning document, through a series of misinterpretations \n",
    "* Analytical perspective:\n",
    "    * Error is difference between measured quantity and its true value; distortion of relationships that should be invariant, etc. (But: What is reality?)\n",
    "    * Why error? Measurement errors, technical limits, logical flaws...\n",
    "* These perspectives may be contradictory: to communicate message one sometimes has to distort reality \n",
    "\n",
    "\n",
    "### Accuracy vs Precision\n",
    "See  https://www.gislounge.com/gis-data-a-look-at-accuracy-precision-and-types-of-errors/, etc."
   ]
  },
  {
   "cell_type": "markdown",
   "metadata": {},
   "source": [
    "\n",
    "\n",
    "### Components of data quality report:\n",
    "* __Lineage__ (provenance)  (the difference between the terms really is only in perspectives)\n",
    "    * source material; operations performed; established control points (eg on the ground); coordinate transformations\n",
    "* __Positional accuracy__\n",
    "    * quality of any control surveys and transformations; assessed via repeated measurements, deductive estimates, cross-validation\n",
    "    * sometimes distortions are planned:\n",
    "        * ex-USSR\n",
    "        * location obfuscation techniques (https://en.wikipedia.org/wiki/Location_obfuscation): random noise added to position, or rounding to landmarks, or removing location info (\"a person is k-anonimous if her exact location cannot be distinguished among k-1 other people\")\n",
    "* __Attribute accuracy__\n",
    "    * it is sometimes difficult to separate attribute and positional error (eg for categorical coverages). Assessment depends on scales of measurement; can be done via comparson with independent source, repeated measurement using additional devices, cross-validation, etc.\n",
    "* __Logical consistency__\n",
    "    * whether the data fits into an expected model (eg topological)\n",
    "    * tests for outliers/blunders; typical suspect values (eg the (0,0) location)\n",
    "* __Completeness__\n",
    "    * how the data in the dataset were selected from the real world; any definitions used; are all defined categories present. Example criteria:\n",
    "        * geometric criteria: roads down to 20’ wide?\n",
    "        * definition: woodland means 20% tree cover?\n",
    "        * rules: individual buildings outside built-up area?\n",
    "                "
   ]
  },
  {
   "attachments": {
    "image.png": {
     "image/png": "[encoded data removed]"
    }
   },
   "cell_type": "markdown",
   "metadata": {},
   "source": [
    "### Accuracy information is part of metadata. Why is metadata important?\n",
    "\n",
    "Metadata is information about the data: \"What? Who? Why? When? Where? How? of your data\"\n",
    "Answers questions: \n",
    "\n",
    "* WHAT is the content of the data; WHAT sources were used\n",
    "* WHO created the data and who is managing it\n",
    "* WHERE is the data collected (study area); WHERE can it be accessed\n",
    "* WHEN is the data collected (time period of the content); WHEN was the data created, processed, databased, etc..\n",
    "* WHY was the data created (purpose, limitations, appropriate uses)\n",
    "* HOW was it created, processed, distributed, what is the resultant data quality\n",
    "\n",
    "No lack of information about spatial metadata, eg https://www.fgdc.gov/metadata/iso-suite-of-geospatial-metadata-standards\n",
    "\n",
    "![image.png](attachment:image.png)\n",
    "(From FGDC)\n",
    "\n",
    "<b> Our recent project on generating metadata automatically: Data Discovery Studio, http://datadiscoverystudio.org. And a paper about it (https://onlinelibrary.wiley.com/doi/abs/10.1002/cpe.6086)  </b>"
   ]
  },
  {
   "cell_type": "markdown",
   "metadata": {},
   "source": [
    "## Geocoding in geopandas \n",
    "(optional; we'll spend more time on this with ArcGIS)\n",
    "\n",
    "Geocoding in geopandas is simple (need a geopy module installed), and the default geocoding (now based on Photon geocoder) getting increasingly powerful with every release. Performance, especially for complicated addresses, depends on a geocoding provider available through geopy. Some providers require an API key. When using free geocoders, follow fair usage etiquette (extensive usage will be throttled, most likely).\n",
    "\n",
    "Geopy does geocoding, reverse geocoding, and distance between points, both geodesic (on ellipsoid) and great-circle  (on a sphere). See https://geopy.readthedocs.io/en/latest/ \n",
    "\n",
    "### Try different geocoders and compare results"
   ]
  },
  {
   "cell_type": "code",
   "execution_count": null,
   "metadata": {},
   "outputs": [],
   "source": [
    "# this is how you install it if needed:\n",
    "# !pip install --user geopy"
   ]
  },
  {
   "cell_type": "code",
   "execution_count": null,
   "metadata": {},
   "outputs": [],
   "source": [
    "from geopandas.tools import geocode\n",
    "import geopy\n",
    "import geopandas as gpd\n",
    "from shapely.geometry import Point\n",
    "\n",
    "df = geocode(\n",
    "    ['4164 Altadena Avenue, San Diego, CA', '3974 Bancroft Street, San Diego, CA', 'UCSD, La Jolla, CA'])\n",
    "df.head()\n"
   ]
  },
  {
   "cell_type": "code",
   "execution_count": null,
   "metadata": {},
   "outputs": [],
   "source": [
    "# Nominatim (from OpenStreetMap) is another popular free option:\n",
    "df = geocode(\n",
    "    ['4164 Altadena Avenue, San Diego, CA', '3974 Bancroft Street, San Diego, CA', 'UCSD, La Jolla, CA'], \n",
    "             provider = 'nominatim', user_agent=\"myself\")\n",
    "\n",
    "df.head()\n"
   ]
  },
  {
   "cell_type": "code",
   "execution_count": null,
   "metadata": {},
   "outputs": [],
   "source": [
    "# Compare with ArcGIS geocoder results:\n",
    "df = geocode(\n",
    "    ['4164 Altadena Avenue, San Diego, CA', '3974 Bancroft Street, San Diego, CA', 'UCSD, La Jolla, CA'], \n",
    "             provider = 'ArcGIS')\n"
   ]
  },
  {
   "cell_type": "code",
   "execution_count": null,
   "metadata": {},
   "outputs": [],
   "source": [
    "df.head()\n",
    "\n",
    "# we'll do more geocoding in ArcGIS; there will be more options"
   ]
  },
  {
   "cell_type": "markdown",
   "metadata": {},
   "source": [
    "### More about geocoding accuracy\n",
    "\n",
    "In Google, location_type stores additional data about the specified location. The following values are currently supported:\n",
    "\n",
    "\"ROOFTOP\" indicates that the returned result is a precise geocode for which we have location information accurate down to street address precision.\n",
    "\n",
    "\"RANGE_INTERPOLATED\" indicates that the returned result reflects an approximation (usually on a road) interpolated between two precise points (such as intersections). Interpolated results are generally returned when rooftop geocodes are unavailable for a street address.\n",
    "\n",
    "\"GEOMETRIC_CENTER\" indicates that the returned result is the geometric center of a result such as a polyline (for example, a street) or polygon (region).\"\n",
    "\n",
    "\"APPROXIMATE\" indicates that the returned result is approximate.\n",
    "\n",
    "Example:\n",
    "<code>\n",
    "import googlemaps\n",
    "</code>\n",
    "\n",
    " --- Define your API key (replace 'YOUR_API_KEY' with your actual Google API key)\n",
    "\n",
    "<code>\n",
    "api_key = 'YOUR_API_KEY'\n",
    "</code>\n",
    "\n",
    " --- Initialize the Google Maps client with your API key\n",
    "\n",
    "<code>\n",
    "gmaps = googlemaps.Client(key=api_key)\n",
    "</code>\n",
    "\n",
    "--- Define an address for geocoding\n",
    "\n",
    "<code>\n",
    "address = \"4164 Altadena Avenue, San Diego, CA\"\n",
    "</code>\n",
    "\n",
    "--- Perform a geocoding request\n",
    "\n",
    "<code>\n",
    "geocode_result = gmaps.geocode(address)\n",
    "</code>\n",
    "\n",
    "--- Print the result (note the Location Type)\n",
    "\n",
    "<code>\n",
    "for result in geocode_result:\n",
    "    print(f\"Formatted Address: {result['formatted_address']}\")\n",
    "    print(f\"Location Type: {result['geometry']['location_type']}\")\n",
    "    print(f\"Coordinates: {result['geometry']['location']}\")\n",
    "    print(\"---\")\n",
    "</code>"
   ]
  },
  {
   "cell_type": "code",
   "execution_count": null,
   "metadata": {},
   "outputs": [],
   "source": [
    "# Let's see what information is available from nominatim, a popular geocoder used by OpenStreetMap (OSM)\n",
    "from geopy.geocoders import Nominatim\n",
    "geolocator = Nominatim(user_agent=\"myself\")\n",
    "location = geolocator.geocode(\"4164 Altadena Ave, San Diego, California, 92105\")\n",
    "print(\"Place ID from OpenStreetMap: \"+ str(location.raw['place_id']))\n",
    "print(\"Bounding box: \" + str(location.raw['boundingbox']))\n",
    "\n",
    "print(\"Latitude and Longitude :\" + str(location.latitude) + \"  \"+str(location.longitude))\n",
    "print(location.raw['lat'])\n",
    "\n",
    "print(\"The entire content of location.raw\")\n",
    "print(location.raw)\n"
   ]
  },
  {
   "cell_type": "markdown",
   "metadata": {},
   "source": [
    "Here, **'class': 'place', 'type': 'house'** points to a single interpolated housenumber (judging from 'osm_type': 'node').\n",
    "Importance: is a computed score in [0...1] that helps select between several potential geocoding targets, similar to relevance score in Wikipedia. See more at https://github.com/osm-search/wikipedia-wikidata \n",
    "\n",
    "\n",
    "### See a working example of nominatim geocoder for early COVID-19 records from Johns Hopkins, in a [separate notebook](Geocode_nominatim.ipynb)"
   ]
  },
  {
   "cell_type": "markdown",
   "metadata": {},
   "source": [
    "### Factors affecting geocoding accuracy: summary\n",
    "\n",
    "    - Ambiguity of location descriptions, and multiple possible locations. \n",
    "    - Incomplete or incorrect location descriptions\n",
    "    - Outdated or incorrect data, in particular street and POI data.\n",
    "    - Diferences in location representation by different geocoding services or databases\n",
    "\n",
    "\n"
   ]
  },
  {
   "cell_type": "code",
   "execution_count": null,
   "metadata": {},
   "outputs": [],
   "source": []
  }
 ],
 "metadata": {
  "kernelspec": {
   "display_name": "Python 3 (ipykernel)",
   "language": "python",
   "name": "python3"
  },
  "language_info": {
   "codemirror_mode": {
    "name": "ipython",
    "version": 3
   },
   "file_extension": ".py",
   "mimetype": "text/x-python",
   "name": "python",
   "nbconvert_exporter": "python",
   "pygments_lexer": "ipython3",
   "version": "3.11.9"
  },
  "toc": {
   "base_numbering": 1,
   "nav_menu": {},
   "number_sections": true,
   "sideBar": true,
   "skip_h1_title": true,
   "title_cell": "Table of Contents",
   "title_sidebar": "Contents",
   "toc_cell": false,
   "toc_position": {},
   "toc_section_display": true,
   "toc_window_display": true
  }
 },
 "nbformat": 4,
 "nbformat_minor": 4
}
