{
 "cells": [
  {
   "cell_type": "markdown",
   "metadata": {},
   "source": [
    "<h1><b> DSC 170: Lecture 3. Advanced Geopandas (Geopandas - 2) </b></h1>\n",
    "\n",
    "This second Geopandas notebook will demonstrate accessing and analyzing spatial data from different sources,as well as  projections and vector operations, including:\n",
    "- constructing a geodataframe from scratch\n",
    "- computing distance, buffers, etc.\n",
    "- spatial join\n",
    "\n",
    "We will also look at several key data sources, for San Diego and California, and work with several real datasets.\n",
    "\n",
    "We also have a forensic story behind this notebook: we'll try to reconstruct spatial relationships between different features in a geodataframe - when they are far from obvious.\n",
    "\n"
   ]
  },
  {
   "cell_type": "markdown",
   "metadata": {},
   "source": [
    "## Importing geopandas\n",
    "\n",
    "Note that you need %matplotlib inline to show maps\n"
   ]
  },
  {
   "cell_type": "code",
   "execution_count": null,
   "metadata": {},
   "outputs": [],
   "source": [
    "%matplotlib inline \n",
    "import geopandas # to be able to work with map data\n",
    "import pandas as pd\n",
    "\n",
    "# it's always a good idea to figure out the current directory, and the software version\n",
    "import os\n",
    "current_dir = os.getcwd()\n",
    "print(current_dir)\n",
    "geopandas.__version__"
   ]
  },
  {
   "cell_type": "code",
   "execution_count": null,
   "metadata": {},
   "outputs": [],
   "source": [
    "# set data location (uncomment one of them)\n",
    "data_location = os.environ[\"HOME\"]+\"/public/datasets/\"  # in the shared datahub \n",
    "# We recommend that you use this location if you run your notebooks with the pre-built class datasets.\n",
    "\n",
    "\n",
    "# data_location = \"../../8. Data/\"    # on my local install (this is what I use when I debug the code)"
   ]
  },
  {
   "cell_type": "markdown",
   "metadata": {},
   "source": [
    "## Explore real datasets\n",
    "\n",
    "There are lots of spatial data available online, from federal, state and local agencies,  from companies, university projects, and idividual enthusiasts.\n",
    "\n",
    "A good source of data for San Diego is http://sandag.org. Follow this link and click \"Maps and GIS\" on the left side, then \"GIS Data Downloads\" - \"Regional GIS Data Warehouse\". __*Create an account*__  and explore 270 spatial data layers available for San Diego.  This is a good example of a local (county-wide) spatial data warehouse, with integrated online mapping.\n",
    "\n",
    "Spatial data for California can be retrieved from CA data portal (http://data.ca.gov), CA GIS portal (https://gis.data.ca.gov/search), or https://mapcruzin.com/free-united-states-shapefiles/free-california-arcgis-maps-shapefiles.htm. There are many other sources as well.\n",
    "\n",
    "You may also consult various library guides, eg http://libguides.humboldt.edu/c.php?g=303789&p=2026238,  https://ucsd.libguides.com/data-statistics/frequentlyuseddata \n",
    "\n",
    "For US-wide data, see http://data.gov. Many datasets are available as GeoJSON or shapefiles.\n",
    "\n",
    "__When you work with external data sources, make sure you understand how the data were compiled! This is very important, because it will help you understand how accurate and current the data is, whether the data compilation methodology and accuracy  are uniform across the dataset, and other properties that may limit its use for analysis.__"
   ]
  },
  {
   "cell_type": "markdown",
   "metadata": {},
   "source": [
    "### Download shapefiles and read them into geodataframe\n",
    "\n",
    "From SanDAG, we'll grab a layer of **parks**. Navigate to Parks in the Regional GIS Data Warehouse, download both the Parks shapefile (as a zip archive) and metadata for this shapefile (as a pdf.)\n",
    "\n",
    "Note this phrase in Parks metadata: \n",
    "<code>\n",
    "This dataset was created by merging parks datasets from the following sources: County of San Diego, City of San Diego, San Diego Port District, State Parks, SanGIS and 16 other incorporated cities in San Diego County.</code>\n",
    "\n",
    "It's unclear if the data were compiled in a uniform manner by all the contributing municipalities or agencies, or if SanDAG worked on unifying the data besides merging (e.g., along the municipal boundaries, where conflicts are likely.)\n",
    "\n",
    "From mapcruzin.com, we'll get CA Coastline and CA Water shapefiles. Notice that the shapefiles include a .prj (which is great!) but no other metadata. At least, with the .prj information we know what the numbers in the geometry column mean. \n",
    "\n",
    "Typically, data layers served by government agencies have well-constructed metadata, which follow a common standard for metadata descriptions. Not always the case with other data (e.g., from mapcruzin.)\n",
    "\n"
   ]
  },
  {
   "cell_type": "code",
   "execution_count": null,
   "metadata": {},
   "outputs": [],
   "source": [
    "# Read the shapefiles into respective geodataframes, and \n",
    "# explore them using .head, .tail, .info, or any other technique you prefer\n",
    "\n",
    "# Then, run  .plot() or .explore() to create a map\n",
    "\n",
    "shpFileIn = data_location +'sandiego/parks/PARKS.shp'\n",
    "sd_parks = geopandas.read_file(shpFileIn)\n",
    "sd_parks.tail(50)\n",
    "\n"
   ]
  },
  {
   "cell_type": "markdown",
   "metadata": {},
   "source": [
    "#### Which operation would we use if we want to aggregate this dataset by park names?\n",
    "\n",
    "Remember that Dissolve for spatial data is similar to Group By. \n",
    "Also remember from the previous lecture that spatial information could be derived in different ways. It is likely that boundaries of parks have been delineated from imagery as areas with green vegetation. Then they were converted to vector polygons, and each polygon received a label and attributes (name, ownership, etc.) This means that one park may appear as multiple polygon records. \n",
    "\n",
    "In data science projects, we often work with records for individual named objects (eg, it is more likely to find data about visitors to each park than about visitors to each of these polygons). You use DISSOLVE to transition from how spatial data are typically presented, to how data scientists work with data (e.g., in pandas.)\n"
   ]
  },
  {
   "cell_type": "code",
   "execution_count": null,
   "metadata": {},
   "outputs": [],
   "source": [
    "# Example how you can query and subset records here, to show a single park by name (typical pandas, should be no surprises)\n",
    "cols = ['geometry','NAME','OWNERSHIP']\n",
    "\n",
    "a = sd_parks[cols]\n",
    "a[a['NAME'] == 'All Seasons Park']"
   ]
  },
  {
   "cell_type": "code",
   "execution_count": null,
   "metadata": {
    "scrolled": true
   },
   "outputs": [],
   "source": [
    "# Another example how we can show multiple polygons for a single named park/open space\n",
    "\n",
    "print(sd_parks.loc[sd_parks['NAME'] == 'CARMEL VALLEY OS'])\n",
    "\n",
    "# There are 93 polygons or multpolygons representing \"Carmel Valley Open Space\":\n",
    "print(sd_parks.loc[sd_parks['NAME'] == 'CARMEL VALLEY OS'].shape)"
   ]
  },
  {
   "cell_type": "code",
   "execution_count": null,
   "metadata": {
    "scrolled": true
   },
   "outputs": [],
   "source": [
    "# We can see them on a map\n",
    "sd_parks.loc[sd_parks['NAME'] == 'CARMEL VALLEY OS'].plot()\n",
    "\n"
   ]
  },
  {
   "cell_type": "code",
   "execution_count": null,
   "metadata": {},
   "outputs": [],
   "source": [
    "# or, using the explore functionality in Geopandas:\n",
    "import folium\n",
    "\n",
    "# below, all parks are plotted underneath \"Carmel Valley OS\", and map extent is set to all parks\n",
    "map = sd_parks.explore(popup=True)\n",
    "map.add_child(folium.Choropleth(geo_data=sd_parks.loc[sd_parks['NAME'] == 'CARMEL VALLEY OS'],fill_color=\"Red\",fill_opacity=0.3))\n",
    "map\n"
   ]
  },
  {
   "cell_type": "code",
   "execution_count": null,
   "metadata": {
    "scrolled": true
   },
   "outputs": [],
   "source": [
    "# Now, let's experiment with DISSOLVE to aggregate such records into multi-polygons\n",
    "\n",
    "\n",
    "cols = ['geometry','NAME','OWNERSHIP']\n",
    "sd_parks_dissolved = sd_parks[cols].dissolve(by='NAME', aggfunc = 'first', as_index=False)\n",
    "sd_parks_dissolved.plot(figsize=(20,20), column = 'NAME')\n",
    "print(sd_parks_dissolved.shape)\n",
    "\n",
    "# Notice that you need to specify the column on which you do the DISSOLVE, and a function to apply to other columns in the dataframe \n",
    "# In this case, we just keep the NAME. \n",
    "\n",
    "# If aggregating by area, we would use \"sum\", or \"max\", depending on the purpose"
   ]
  },
  {
   "cell_type": "code",
   "execution_count": null,
   "metadata": {},
   "outputs": [],
   "source": [
    "sd_parks_dissolved.geom_type\n",
    "\n",
    "# Notice the many \"multipolygon\" types here because DISSOLVE aggregated multiple polygons based on common NAME\n",
    "\n",
    "# Also recall, from the Parks metadata, that the layer is aggregated from data provided by \n",
    "# individual municipalities and agencies; then these were organized into a single layer by SanDAG\n",
    "# \n",
    "# This means that we can expect inconsistencies across the entire map layer (in precision/point density). \n",
    "# They are especailly likely to be visible along municipal boundaries "
   ]
  },
  {
   "cell_type": "code",
   "execution_count": null,
   "metadata": {
    "scrolled": true
   },
   "outputs": [],
   "source": [
    "# Let's plot the parks data we just loaded\n",
    "sd_parks.plot(figsize=(10,10), column = 'OWNERSHIP', legend = True)\n",
    "\n"
   ]
  },
  {
   "cell_type": "code",
   "execution_count": null,
   "metadata": {
    "scrolled": true
   },
   "outputs": [],
   "source": [
    "# alternatively:\n",
    "\n",
    "sd_parks.explore(column='OWNERSHIP',legend=True, width=\"80%\", categorical=True,tiles = \"CartoDB dark_matter\")\n"
   ]
  },
  {
   "cell_type": "markdown",
   "metadata": {},
   "source": [
    "**Explore this map carefully.**\n",
    "\n",
    "    1) Observe park boundaries in the eastern part of the county. What do they tell you about how these data were constructed? \n",
    "    2) Zoom in to Coronado or San Diego downtown and observe park boundaries here. Why do these boundaries look different? How were they constructed? \n",
    "    3) What does this tell you about spatial accuracy of the data? \n",
    "    4) What other abnormalities have you noticed? \n",
    "    5) How would these issues affect spatial analysis? What kinds of applications would be affected?"
   ]
  },
  {
   "cell_type": "markdown",
   "metadata": {},
   "source": [
    "\n",
    "### Let's load the two other datasets we got from mapcruzin.com:  Water objects, and California coastline\n",
    "\n",
    "They have been preloaded in the \"data\" directory, \n"
   ]
  },
  {
   "cell_type": "code",
   "execution_count": null,
   "metadata": {},
   "outputs": [],
   "source": [
    "shpFileIn = data_location + 'california/water/california_water.shp'\n",
    "ca_water = geopandas.read_file(shpFileIn)\n",
    "ca_water.info"
   ]
  },
  {
   "cell_type": "code",
   "execution_count": null,
   "metadata": {},
   "outputs": [],
   "source": [
    "ca_water.plot(figsize=(10,10), column = 'NATURAL', legend = True)\n",
    "ca_water.count()"
   ]
  },
  {
   "cell_type": "markdown",
   "metadata": {},
   "source": [
    "Notice that not all water bodies have a name\n",
    "\n",
    "**How was this map constructed - what do you think?**\n",
    "\n",
    "    - Most likely, the source was water bodies identified in satellite imagery (we'll look at how in the \"raster\" part of the class).\n",
    "    - Then, the analyst gave names to those water bodies that had names.\n",
    "\n",
    "But most water bodies remained unnamed, as the dataframe showed."
   ]
  },
  {
   "cell_type": "code",
   "execution_count": null,
   "metadata": {},
   "outputs": [],
   "source": [
    "# now the same for the coastline data\n",
    "\n",
    "shpFileIn = data_location + 'california/coastline/california_coastline.shp'\n",
    "ca_coastline = geopandas.read_file(shpFileIn)\n",
    "ca_coastline.info"
   ]
  },
  {
   "cell_type": "code",
   "execution_count": null,
   "metadata": {
    "scrolled": true
   },
   "outputs": [],
   "source": [
    "ca_map = ca_coastline.plot(figsize=(10,10))"
   ]
  },
  {
   "cell_type": "code",
   "execution_count": null,
   "metadata": {},
   "outputs": [],
   "source": [
    "# Let's create a single map showing several themes: coastline, water objects, and SD parks\n",
    "# Recall how we combined several layers in the previous lecture: first you draw a basemap (eg coastline, \n",
    "# in our case), then add other layer plots to it. \n",
    "\n",
    "ca_map = ca_coastline.plot(figsize=(10,10))\n",
    "ca_water.plot(ax=ca_map, column = 'NATURAL');"
   ]
  },
  {
   "cell_type": "code",
   "execution_count": null,
   "metadata": {},
   "outputs": [],
   "source": [
    "# in the same fashion, add sd_parks as another layer:\n",
    "\n",
    "ca_map = ca_coastline.plot(figsize=(10,10))\n",
    "sd_parks.plot(ax=ca_map, column = 'OWNERSHIP')\n",
    "ca_map.set_title(\"SD Parks\")      \n",
    "\n",
    "# you can set a map title and several other common map elements, but graphic capabilities here are limited"
   ]
  },
  {
   "cell_type": "markdown",
   "metadata": {},
   "source": [
    "### Why don't we see both the coastline and the parks??\n",
    "\n",
    "\n",
    "\n",
    "\n",
    " - Recall that when we displayed the content of the geodataframes, coordinates in the sd_parks layer were represented with really large numbers - unlike coordinates in the other two datasets\n",
    "\n",
    " - But geopandas plot() doesn't know what these numbers mean! This map shows all these three geodataframes, but water bodies and coastline are shown as a dot near the (0,0) point\n",
    "\n",
    "\n",
    "**Because coordinate reference systems of these geodataframes are different!**\n"
   ]
  },
  {
   "cell_type": "code",
   "execution_count": null,
   "metadata": {},
   "outputs": [],
   "source": [
    "# let's check the coordinate reference systems (crs) of the three GDFs\n",
    "\n",
    "print(ca_water.crs)\n",
    "print(ca_coastline.crs)\n",
    "print(sd_parks.crs)"
   ]
  },
  {
   "cell_type": "markdown",
   "metadata": {},
   "source": [
    "## Coordinate reference systems that you are likely to work with\n",
    "\n",
    "EPSG (European Petroleum Survey Group) started cataloguing CRSs and giving them standard descriptions and identification numbers. EPSG was later absorbed into IOGP (International Association of Oil & Gas Producers), which maintains the \"EPSG Geodetic Parameter Set\". The IDs are still known as EPSG codes. \n",
    "\n",
    "Note the most widely used coordinate reference systems in our area:\n",
    "\n",
    "* 4326: WGS84, latitude/longitude, in decimal degrees, used in GPS; covers the world; http://epsg.io/4326, http://spatialreference.org/ref/epsg/4326/. Geographic coordinate system. The default used in most cases by web mapping APIs. You normally use this coord system in KML etc. If a CRS is not specified, and the data are relatively recent, and look like latitude and longitude, there is a good chance it is 4326.\n",
    "\n",
    "**Explore one or both of the links above. See that each coordinate reference system can be referred to by its epsg code, and presents information about its point of origin, units of measure, datum, spheroid, etc. This information is available in both standard and vendor specific formats. If we are talking about a projected coordinate system, then the description may also contain accuracy of coordinate translation from a geographic coordinate system to the projected one.**\n",
    "\n",
    "* 2230: California State Plane Zone 6, over NAD83, used for San Diego, with data in feet http://spatialreference.org/ref/epsg/nad83-california-zone-6-ftus/, http://epsg.io/2230. State Plane Coordinate Systems are rectangular plane coord systems used within states (so expect local data in this system). Coordinates are in feet. Most states have several zones.\n",
    "\n",
    "* 3857: Projected coordinate system used by Google Maps, OpenStreetMap, etc. Use it when need to align with map tiles coming from online map services. Based on WGS84 datum. Also called Web Mercator projection, units are meters (but not uniform). Map servers convert lat/lon to 3857 internally to match with basemap imagery. Also known as EPSG:900913 (earlier and not too official; 900913 came from 'GOOGLE'). Covers up to 85 degrees latitude. https://epsg.io/3857 , https://en.wikipedia.org/wiki/Web_Mercator_projection \n",
    "\n",
    "* 26911: UTM Zone 11N, over NAD83;  Topographic mapping. Larger areas; in meters. http://epsg.io/26911. UTM Grid is used in all countries, covers area between 80 degrees N and S. Divided into columns of 6 degrees (zones), numbered from 1 to 60. Each zone has a central meridian, it is assigned 500,000 m Easting (to make sure coordinates are positive numbers). Equator is assigned 0 m Northing for Northern Hemisphere; 10,000,000m Northing for Southern Hemisphere.\n",
    "\n",
    "WGS84 / epsg:4326 is an example of a __geographic__ coordinate system (the most common one). It is based on a spheroid, and uses angular units (degrees). Latitude measures the distance north or south of the equator, while longitude measures the distance east or west of the prime meridian.\n",
    "\n",
    "Web Mercator, UTM, State Plane Coordinate System - are examples of a __projected__ coordinate system. A projected coordinate system is a coordinate system that is used to map geographic locations onto a flat surface. It is based on a plane (spheroid projected onto 2D), and uses linear units. There are thousands of projected coordinate systems.\n",
    "\n",
    "See more at https://www.esri.com/arcgis-blog/products/arcgis-pro/mapping/gcs_vs_pcs/, https://gis.stackexchange.com/questions/182444/understanding-difference-between-coordinate-system-and-projection\n",
    "\n",
    "\n",
    "\n",
    "Other good reference sites:\n",
    "* http://mapref.org/\n",
    "* https://proj4.org/operations/projections/\n",
    "\n"
   ]
  },
  {
   "cell_type": "code",
   "execution_count": null,
   "metadata": {},
   "outputs": [],
   "source": [
    "# Let's explore the CRS of the sd_parks GDF\n",
    "sd_parks.crs\n",
    "\n",
    "# The units are feet (hence the large numbers), from the origin of thie CRS, expressed as Easting and Northing"
   ]
  },
  {
   "cell_type": "code",
   "execution_count": null,
   "metadata": {},
   "outputs": [],
   "source": [
    "# if we want to show the data correctly aligned on one map, we need to reproject so that the coordinate reference systems match\n",
    "\n",
    "sd_parks2 = sd_parks.to_crs(\"EPSG:4326\")\n",
    "\n",
    "# These also work:\n",
    "# sd_parks2 = sd_parks.to_crs(4326)\n",
    "# sd_parks2 = sd_parks.to_crs(epsg=4326)\n",
    "\n",
    "# in the recent versions of geopandas re-projection works much faster than before!! \n",
    "\n"
   ]
  },
  {
   "cell_type": "code",
   "execution_count": null,
   "metadata": {},
   "outputs": [],
   "source": [
    "sd_parks2.head() \n",
    "\n",
    "# notice that polygon coordinates in the geometry column are now different: they are in decimal degrees"
   ]
  },
  {
   "cell_type": "code",
   "execution_count": null,
   "metadata": {},
   "outputs": [],
   "source": [
    "# Now, let's try to construct a multu-layer map again, at least with the coastline and parks\n",
    "\n",
    "ca_map = ca_coastline.plot(figsize=(10,10))\n",
    "sd_parks2.plot(ax=ca_map, column = 'OWNERSHIP', legend = True)\n",
    "ca_map.set_title(\"SD Parks\")\n",
    "\n",
    "# it now works correctly"
   ]
  },
  {
   "cell_type": "code",
   "execution_count": null,
   "metadata": {},
   "outputs": [],
   "source": [
    "# it would be a good idea, before attempting any geometric operations, to assert that CRS match:\n",
    "assert ca_coastline.crs == sd_parks.crs, \"CRS are different!\"\n",
    "assert ca_coastline.crs == ca_water.crs, \"CRS are different!\""
   ]
  },
  {
   "cell_type": "code",
   "execution_count": null,
   "metadata": {},
   "outputs": [],
   "source": [
    "# Folium knows about coordinate systems - see by yourself:\n",
    "# Everything is projected to the coordinate system of the underlying tiles\n",
    "\n",
    "map = ca_water.explore(popup=True)\n",
    "map.add_child(folium.Choropleth(geo_data=sd_parks,fill_color=\"Red\",fill_opacity=0.3))\n",
    "map"
   ]
  },
  {
   "cell_type": "markdown",
   "metadata": {},
   "source": [
    "## More about coordinate reference systems  in Geopandas: http://geopandas.org/projections.html\n",
    "\n",
    "**Also, please see [lecture slides](https://docs.google.com/presentation/d/19LHvGOCfYsOHjw6qgW5X0pFd-QrGjk7C5D9L7OWIjrA/edit?usp=sharing) describing different terms used for coordinate reference systems: geoid, ellipsoid, spheroid, datum, etc., plus different types of projections, and when to use which projections**\n",
    "\n"
   ]
  },
  {
   "cell_type": "markdown",
   "metadata": {},
   "source": [
    "### Explore map projections for the world\n"
   ]
  },
  {
   "cell_type": "code",
   "execution_count": null,
   "metadata": {},
   "outputs": [],
   "source": [
    "naturalearth_lowres = data_location +\"world/ne_110m_admin_0_countries/ne_110m_admin_0_countries.shp\"\n",
    "world = geopandas.read_file(naturalearth_lowres)\n",
    "world.plot()\n",
    "print(world.crs)"
   ]
  },
  {
   "cell_type": "code",
   "execution_count": null,
   "metadata": {},
   "outputs": [],
   "source": [
    "# Let's look at the world map in the Web Mercator projection, and then in a couple others\n",
    "world_m = world.to_crs('epsg:3395')\n",
    "world_m.plot(figsize=(10,10))\n",
    "\n",
    "world_m = world.to_crs(\"+proj=eck4 +lon_0=0 +x_0=0 +y_0=0 +ellps=WGS84 +datum=WGS84 +units=m no_defs\")\n",
    "world_m.plot() #Eckert IV (copied from https://epsg.io/54012)\n",
    "\n",
    "world_m = world.to_crs(\" +proj=moll +lon_0=0 +x_0=0 +y_0=0 +ellps=WGS84 +datum=WGS84 +units=m no_defs\")\n",
    "world_m.plot() #Mollweide (copied from https://epsg.io/54009)\n",
    "\n",
    "# Notice that geopandas can refer to CRS by EPSG numbers, and also accept a standard definition of projection from epsg.io"
   ]
  },
  {
   "cell_type": "markdown",
   "metadata": {},
   "source": [
    "Notice how different the world maps above are!\n",
    "\n",
    "In the first case (Web Mercator): north is always up; angles are locally correct - this is critical for local navigation (eg in Google Maps). But areas inflate with distance from the equator. Greenland looks bigger than South America (while it is 8 times smaller), and even bigger than Africa (in reality, it is 14 times smaller)\n",
    "\n",
    "The Eckert IV projection can be used for political mapping, and in other cases when you need to reflect true size of different areas and show global distributions. it is an equal-area projection.\n",
    "\n",
    "Mollweide is another type of equal-area projection.\n",
    "\n",
    "If you are interested in specific uses and differences, see https://research.tableau.com/sites/default/files/User%20preference%20for%20world%20map%20projections.pdf "
   ]
  },
  {
   "attachments": {
    "image.png": {
     "image/png": "[encoded data removed]"
    }
   },
   "cell_type": "markdown",
   "metadata": {},
   "source": [
    "**You probably noticed that while a projection can keep some of the properties of shapes correct, it can do it at the expense of other properties**\n",
    "\n",
    "### Tissot's Indicatrix \n",
    "... is a way to charactrize local distrotions due to map projection: a geometry that results from projecting a small circle from a globe onto a map. It results in an ellipse; its shape indicates local distortions. Tissot was a 19th century French mathematician.\n",
    "\n",
    "For the Mercator projection:\n",
    "![image.png](attachment:image.png)\n",
    "\n",
    "See more examples at https://en.wikipedia.org/wiki/Tissot%27s_indicatrix\n"
   ]
  },
  {
   "cell_type": "markdown",
   "metadata": {},
   "source": [
    "### Even more fun with projections? \n",
    "See https://xkcd.com/977/ (the best map projection for YOU!)"
   ]
  },
  {
   "cell_type": "markdown",
   "metadata": {},
   "source": [
    "### How do you choose which coordinate system to use for your map?\n",
    "If you have more than one gdf in your project, and they use different CRS, which of them you reproject to?\n",
    "\n",
    "The answer depends on several factors:\n",
    "- Area of interest and map scale: geographic coordinate systems would work for maps covering larger areas, while projected (UTM, State Plane) would be better for small areas. Scale is related to what CRS properties that  can be preserved, e.g., preserving true distances (\"equidistant\" projections) doesn't work for world maps\n",
    "- Accuacy requirements: e.g., if a map is used for high precision surveying, need to have accurate Datum, etc.\n",
    "- Compatibility with other layers: e.g., if need to overlay on a satellite image, need to convert to the CSR of the image\n",
    "- Costs of reprojection: Reprojecting a layer with fewer vertices would work faster\n",
    "- Projection distortions: which map properties you want to preserve and which you can sacrifice (local angles? shapes? size? scale in different parts of the map?)\n",
    "- Spatial operations you want to perform on the data.\n",
    "\n",
    "**This last one is critical. So let's look at spatial operations!**\n",
    " \n"
   ]
  },
  {
   "cell_type": "markdown",
   "metadata": {},
   "source": [
    "## Spatial Operations\n",
    "\n",
    "Now that we have coordinate information in the geodataframe, we can do spatial operations over it. \n",
    "\n",
    "### Simple operations over a single geodataframe"
   ]
  },
  {
   "cell_type": "code",
   "execution_count": null,
   "metadata": {},
   "outputs": [],
   "source": [
    "# These are mostly self-explanatory\n",
    "\n",
    "# type of geometry (in WKT terms)\n",
    "print(sd_parks2.geom_type[0])\n",
    "\n",
    "# spatial extent, or bounding box, or envelope, for the entire set of objects in theGDF\n",
    "print(sd_parks2.total_bounds)\n",
    "\n",
    "# same, for the same GDF, in projection 2230\n",
    "print(sd_parks.total_bounds)\n",
    "\n",
    "# centroid, for the first object. But notice the warning!!! Geopandas doesn't like to do geometric operations on a geographic CRS! \n",
    "print(sd_parks2.centroid[0])\n",
    "\n",
    "# representative point: a point near a center that is guaranteed to be inside, eg when you need to place a label or point inside a polygon \n",
    "print(sd_parks2.representative_point()[0]) \n",
    "\n",
    "# area computation: similar concern about doing this over a geographic CRS\n",
    "print(sd_parks2.area[0]) \n",
    "print(sd_parks.area[0])\n"
   ]
  },
  {
   "cell_type": "markdown",
   "metadata": {},
   "source": [
    "#### When you expect to perform geometric operations: don't use CRS in decimal degrees!"
   ]
  },
  {
   "cell_type": "code",
   "execution_count": null,
   "metadata": {},
   "outputs": [],
   "source": [
    "# If you want to get the results in a geographic CRS: \n",
    "# change to a projected crs first, execute geometric operations, \n",
    "# and then reproject back to WGS84 (4326)\n",
    "# Such warnings is a recent addition to geopandas\n",
    "\n",
    "print(sd_parks.crs) # this is a projected crs\n",
    "pnt = sd_parks.centroid\n",
    "print(pnt.to_crs(4326))"
   ]
  },
  {
   "cell_type": "markdown",
   "metadata": {},
   "source": [
    "### Computing distance between spatial objects, and exploring spatial relationships\n",
    "\n",
    "There are two options when computing distance (or other relationships): \n",
    "\n",
    "1. your objects are in two different geodataframes (or geoseries): sd_parks2.distance(ca_water) will return distances beetween each park and objects in ca_water \n",
    "\n",
    "1. your objects are in the same dataframe, and you need to compute distances between pairs of objects: use shift()... if it makes sense (i.e., if the records are arranged in some meaningful order.)\n",
    "\n",
    "### A key convention in GIS: distance between spatial features is the “shortest separation between features” not between their centers"
   ]
  },
  {
   "cell_type": "code",
   "execution_count": null,
   "metadata": {},
   "outputs": [],
   "source": [
    "# example of the first option:\n",
    "\n",
    "# let's figure out the ID of Lake Hodges, then compute distances from the first 3 parks to this lake\n",
    "print(ca_water[ca_water['NAME'] == 'Lake Hodges'])\n",
    "\n",
    "for i in range(3):\n",
    "    \n",
    "#     the format is: gdf1.distance(object_in_gdf2)\n",
    "    \n",
    "    print(sd_parks2.distance(ca_water.loc[7108,'geometry'])[i], sd_parks2.loc[i,'NAME'])\n",
    "    \n",
    "    \n",
    "#      Question: What are the units of distance here??"
   ]
  },
  {
   "cell_type": "code",
   "execution_count": null,
   "metadata": {},
   "outputs": [],
   "source": [
    "# the above is likely incorrect...\n",
    "\n",
    "# let's get some projected CRS for CA, eg from http://epsg.io/?q=California%20kind%3APROJCRS\n",
    "# for example, NAD83 / California Albers (epsg:3310). \n",
    "# See justification at https://nrm.dfg.ca.gov/FileHandler.ashx?DocumentID=109326&inline\n",
    "\n",
    "\n",
    "ca_water_3310 = ca_water.to_crs(3310)\n",
    "sd_parks_3310 = sd_parks.to_crs(3310)\n",
    "for i in range(3):\n",
    "    print(sd_parks_3310.distance(ca_water_3310.loc[7108,'geometry'])[i], sd_parks_3310.loc[i,'NAME'])\n"
   ]
  },
  {
   "cell_type": "code",
   "execution_count": null,
   "metadata": {},
   "outputs": [],
   "source": [
    "# IF records are arranged in some meaningful order, one can use shift() to compute distance between neighbors. \n",
    "# This is an example of the second option. \n",
    "\n",
    "# let's create a subset of the gdf, with 10 parks:\n",
    "sd_parks_dis = sd_parks_3310[0:10]\n",
    "sd_parks_dis\n"
   ]
  },
  {
   "cell_type": "code",
   "execution_count": null,
   "metadata": {
    "scrolled": true
   },
   "outputs": [],
   "source": [
    "# then compute distance between parks 0 and 1, 1 and 2, ...\n",
    "\n",
    "dis = sd_parks_dis.distance(sd_parks_dis.shift())\n",
    "dis\n",
    "\n",
    "# not quite sure why it gives a warning here..."
   ]
  },
  {
   "cell_type": "markdown",
   "metadata": {},
   "source": [
    "notice that there is 0 distance between parks 2 and 3. Maybe they are next to each other? Adjacent, in other words?\n",
    "\n",
    "\n",
    "\n",
    "### Adjacency is another spatial relationship that is often needed in applications"
   ]
  },
  {
   "cell_type": "code",
   "execution_count": null,
   "metadata": {},
   "outputs": [],
   "source": [
    "# Adjacency is a common property that can be analyzed with Geopandas.\n",
    "# Let's check if there are adjacent parks in the sequence of the first 10 parks:\n",
    "adjacent = sd_parks_dis.touches(sd_parks_dis.shift())\n",
    "adjacent\n",
    "\n",
    "# hmmm, none of them are adjacent. \n",
    "# We'll do some additional forensic analysis at the end of the notebook, \n",
    "# after we explore binary predicates in more detail"
   ]
  },
  {
   "cell_type": "markdown",
   "metadata": {},
   "source": [
    " ### The general format of binary predicates:\n",
    " \n",
    "Adjacency is a condition that can be checked using a boolean function that takes two geometric objects as input and returns a true or false value based on the spatial relationship \"touches\". Such boolean functions are called **binary spatial predicates**.\n",
    "\n",
    "GeoSeries.topological_condition(other geoseries)   --> returns True or False\n",
    " \n",
    "Binary spatial predicates check for several types of topological relationships. They are constructed from relationships between boundaries and interiors of objects. \n",
    "\n",
    "These topological operations can be:\n",
    " \n",
    "* __touches__ (interiors don't intersect, but have at least one point in common)\n",
    "* __within__ (or completely within: object boundaries don't touch, and both boundary and interior of one object is within another). \n",
    "* __contains__ (object's interior contains boundary and interior of the other object; it is inverse of the \"within\": a.within(b) == b.contains(a)). This is how you do a common point-in-polygon (PIP) test: either p1.within(poly) or poly.contains(p1). The algorithm is Ray Casting (https://en.wikipedia.org/wiki/Point_in_polygon#Ray_casting_algorithm) - but it is already implemented in Geopandas (and many other libraries) \n",
    "* __intersects__ \n",
    "* __geom_equals__\n",
    "* __geom_almost_equals__ (Geoseries.geom_almost_equals(other, decimal=N). Here, N is the number of decimal places that specifies tolerance when evaluating approximate equality. Obviously, depends on the units of the projection.\n",
    "* __disjoint__ (boundaries or interiors don't intersect)\n",
    "* __crosses__ (object's interior intersects the interior of the other object, but does not contain it, and dimension of the intersection is less than the dimension of the one or the other; typically in \"road crosses a park\" scenario)\n",
    "\n",
    "__In the previous example we saw two different parks that are not adjacent, but have a distance of 0 betweem them. How could that happen?__\n"
   ]
  },
  {
   "cell_type": "code",
   "execution_count": null,
   "metadata": {
    "scrolled": true
   },
   "outputs": [],
   "source": [
    "# let's see what is going on!\n",
    "sd_parks_dis[2:4].plot(column='NAME')\n",
    "\n",
    "intersect = sd_parks_dis.intersects(sd_parks_dis.shift())\n",
    "intersect"
   ]
  },
  {
   "cell_type": "markdown",
   "metadata": {},
   "source": [
    "aha! These parks are not adjacent to each other - but they actually intersect!"
   ]
  },
  {
   "cell_type": "code",
   "execution_count": null,
   "metadata": {},
   "outputs": [],
   "source": [
    "sd_parks_dis[2:4].explore(column='NAME')"
   ]
  },
  {
   "cell_type": "markdown",
   "metadata": {},
   "source": [
    "### A summary of spatial operations:\n",
    "\n",
    "For a complete list see at http://geopandas.org/reference.html. Shapely manual has more extensive explanations: https://shapely.readthedocs.io/en/latest/manual.html.\n",
    "\n",
    "The key operations are:\n",
    "\n",
    "_Binary spatial predicates_ (see above) \n",
    "\n",
    "_Set-theoretical methods_: return GeoSeries, https://geopandas.org/set_operations.html\n",
    "* __difference__: returns part of the first object's geometry that is not in other\n",
    "* __intersection__: returns part of object's geometry that is also in other\n",
    "* __union__: returns a union of object geometries\n",
    "* __symmetric_difference__: returns parts of both geometries that are not in other\n",
    "\n",
    "_Constructive methods_: return GeoSeries. Work on a single object or series.\n",
    "* __buffer__: returns geometry within a given distance from an object\n",
    "* __boundary__: returns geometry of lower-dimensional object\n",
    "* __centroid__\n",
    "* __representative_point__: similar to centroid, but ensures that it is within the higher-dimensional geometry\n",
    "* __envelope__: bounding rectangle of a geometry, with sides parallel to coordinate axes\n",
    "* __convex_hull__: smallest convex polygon containing all points of a geometry\n",
    "\n",
    "### Constructive methods\n",
    "\n",
    "Constructive spatial methods are techniques used to create new geometric objects based on the spatial relationships between existing geometric objects."
   ]
  },
  {
   "cell_type": "code",
   "execution_count": null,
   "metadata": {},
   "outputs": [],
   "source": [
    "# what you can do with centroids\n",
    "# The current geometry column is park polygons\n",
    "sd_parks2.geometry.name # this is the default geometry column name\n"
   ]
  },
  {
   "cell_type": "code",
   "execution_count": null,
   "metadata": {
    "scrolled": true
   },
   "outputs": [],
   "source": [
    "# create centroids and switch geometry to this new column\n",
    "sd_parks['centroids'] = sd_parks.centroid\n",
    "sd_parks = sd_parks.set_geometry('centroids')\n",
    "sd_parks.plot()\n",
    "sd_parks.head()\n",
    "\n",
    "# see, the same parks are now shown as centroids.\n",
    "# Sometimes, it makes sense to show polygon objects as points - \n",
    "# especially if their geometry isn't critical, and one needs to see \n",
    "# all of them when zoomed out"
   ]
  },
  {
   "cell_type": "code",
   "execution_count": null,
   "metadata": {},
   "outputs": [],
   "source": [
    "# if we switch geometry back to polygons, and plot - we'll see the old polygon map\n",
    "sd_parks = sd_parks.set_geometry('geometry')\n",
    "sd_parks.plot()"
   ]
  },
  {
   "cell_type": "markdown",
   "metadata": {},
   "source": [
    "### Constructing buffers - one of the most common GIS operations"
   ]
  },
  {
   "cell_type": "code",
   "execution_count": null,
   "metadata": {
    "scrolled": true
   },
   "outputs": [],
   "source": [
    "# Buffer creates a set of polygons showing area at a specified distance from the original objects\n",
    "\n",
    "sd_parks_buffer = sd_parks.buffer(10000)\n",
    "map1 = sd_parks_buffer.plot(color='red')\n",
    "sd_parks.plot(ax=map1)"
   ]
  },
  {
   "cell_type": "markdown",
   "metadata": {},
   "source": [
    "Question: what 10000 mean in the buffer request?\n",
    "It is a distance - but in what units?"
   ]
  },
  {
   "cell_type": "markdown",
   "metadata": {},
   "source": [
    "## Constructing a Geopandas geodataframe\n",
    "\n",
    "In most cases, you will be reading spatial data files from other sources. But sometimes you need to create a data frame with points of interest from scratch - for example when you need to do some distance-based operations relative to these points. There are several ways to do this.\n",
    "\n",
    "### Use shapely Point constructor to create a GeoSeries, and then a GeoDataFrame from it\n"
   ]
  },
  {
   "cell_type": "code",
   "execution_count": null,
   "metadata": {},
   "outputs": [],
   "source": [
    "from shapely.geometry import Point\n",
    "geoseries = geopandas.GeoSeries([Point(-117.2418439, 32.8844393)]) # this is SDSC building, in WKT \n",
    "\n",
    "# can do this for multiple objects: ...GeoSeries([Point(x1,y1), Point(x2,y2), Point(x3,y3)])\n",
    "\n",
    "geoseries\n",
    "\n",
    "# note that x (longitude) goes first"
   ]
  },
  {
   "cell_type": "code",
   "execution_count": null,
   "metadata": {},
   "outputs": [],
   "source": [
    "# Then, we can create a GeoDataFrame from the GeoSeries:\n",
    "\n",
    "gdf_point = geopandas.GeoDataFrame(geometry=geoseries)\n",
    "gdf_point['name'] ='SDSC Building'\n",
    "gdf_point.plot()"
   ]
  },
  {
   "cell_type": "code",
   "execution_count": null,
   "metadata": {},
   "outputs": [],
   "source": [
    "# notice that we created a geodataframe, but we haven't specified a CRS for it:\n",
    "gdf_point.crs"
   ]
  },
  {
   "cell_type": "code",
   "execution_count": null,
   "metadata": {},
   "outputs": [],
   "source": [
    "# if the coordinates look like lat/lon, but CRS is not explicitly defined - this is referred to as \"naive geometry\"\n",
    "# some operations won't work!!"
   ]
  },
  {
   "cell_type": "code",
   "execution_count": null,
   "metadata": {},
   "outputs": [],
   "source": [
    "# Let's set a CRS:\n",
    "gdf_point = gdf_point.set_crs('epsg:4326')\n",
    "gdf_point.crs"
   ]
  },
  {
   "cell_type": "markdown",
   "metadata": {},
   "source": [
    "### Create a pandas dataframe, and then a GeoDataFrame from it"
   ]
  },
  {
   "cell_type": "code",
   "execution_count": null,
   "metadata": {},
   "outputs": [],
   "source": [
    "# Another common task is to add a point or collection of points to a map (eg proposed locations)\n",
    "# and run some analysis models for them\n",
    "# For this you would need to create a GeoDataFrame from a Pandas dataframe with coordinates\n",
    "\n",
    "from shapely.geometry import Point\n",
    "df = pd.DataFrame(\n",
    "    {'Proposed Coffee Shop': ['Location 1', 'Location 2', 'Location 3', 'Location 4'],\n",
    "     'Latitude': [32.852, 32.920, 33.006, 32.781],\n",
    "     'Longitude': [-117.219,-117.256, -117.276, -117.229]})\n",
    "df.head()"
   ]
  },
  {
   "cell_type": "code",
   "execution_count": null,
   "metadata": {},
   "outputs": [],
   "source": [
    "# Now, we need to convert this to coordinates, and assign it to Point\n",
    "df['geometry'] = list(zip(df.Longitude, df.Latitude))\n",
    "df['geometry'] = df['geometry'].apply(Point)\n",
    "df.head()"
   ]
  },
  {
   "cell_type": "code",
   "execution_count": null,
   "metadata": {
    "scrolled": true
   },
   "outputs": [],
   "source": [
    "# next, create a GeoDataFrame from the DataFrame, simply assigning the coordinates to be\n",
    "# the geometry column\n",
    "new_locations = geopandas.GeoDataFrame(df, geometry='geometry')\n",
    "new_map = sd_parks2.plot(figsize=(10,10), column = 'OWNERSHIP', legend = True)\n",
    "new_locations.plot(ax=new_map, legend = True,marker='o', color='black', markersize=100)"
   ]
  },
  {
   "cell_type": "code",
   "execution_count": null,
   "metadata": {},
   "outputs": [],
   "source": [
    "# let's not forget about a CRS for the new geodataframe!!\n",
    "new_locations.crs\n",
    "\n",
    "# crs is empty!\n",
    "\n",
    "# if the coordinates look like lat/lon, but CRS is not explicitly defined - this is referred to as \"naive geometry\""
   ]
  },
  {
   "cell_type": "code",
   "execution_count": null,
   "metadata": {},
   "outputs": [],
   "source": [
    "new_locations.crs = \"EPSG:4326\"\n",
    "new_locations.crs"
   ]
  },
  {
   "cell_type": "markdown",
   "metadata": {},
   "source": [
    "### Use geojson.io (for relatively simple objects):\n",
    "\n",
    "Create objects manually, then copy geojson fragment into your notebook (eg into a variable 'geojson'), and read it into geopandas:  \n",
    "\n",
    "```python\n",
    "gdf = geopandas.read_file(geojson)\n",
    "```\n",
    "\n",
    "\n",
    "There is a large collection of GeoJSON files at https://catalog.data.gov/dataset?res_format=GeoJSON\n",
    "They are of unknown size; typically exported from other formats on the fly.\n",
    "\n",
    "Pre-built geojson files: https://eric.clst.org/tech/usgeojson/\n"
   ]
  },
  {
   "cell_type": "code",
   "execution_count": null,
   "metadata": {},
   "outputs": [],
   "source": [
    "geojson='''\n",
    "{\n",
    "  \"type\": \"FeatureCollection\",\n",
    "  \"features\": [\n",
    "    {\n",
    "      \"type\": \"Feature\",\n",
    "      \"properties\": {},\n",
    "      \"geometry\": {\n",
    "        \"type\": \"Point\",\n",
    "        \"coordinates\": [\n",
    "          -117.23756432533266,\n",
    "          32.881145927337116\n",
    "        ]\n",
    "      }\n",
    "    }\n",
    "  ]\n",
    "}\n",
    "'''\n",
    "gdf = geopandas.read_file(geojson)\n"
   ]
  },
  {
   "cell_type": "markdown",
   "metadata": {},
   "source": [
    "\n",
    "There are a few more options for quickly bringing spatial data into geodataframes, for sure.\n",
    "\n",
    "## Spatial join - the core capability of GIS \n",
    "(as opposed to computer mapping systems which are primarily concerned with making maps. Whereas GIS, in a narrow sense, is about integrating data based on location.)\n",
    "\n",
    "A **spatial join** is a process in which two or more spatial datasets are combined based on their spatial relationship. In a spatial join, each feature in one dataset is assigned attributes from the corresponding feature in the other dataset based on a spatial relationship, such as whether the features intersect or are within a certain distance of each other.\n",
    "\n",
    "Spatial joins can be used to combine datasets with complementary information, such as combining a dataset of roads with a dataset of cities to add the city names to the road dataset. They can also be used to perform spatial analysis, such as finding the nearest hospital for each school in a dataset of schools.\n",
    "\n",
    "Spatial joins can be one-to-one, one-to-many, many-to-one, many-to-many.\n",
    "\n",
    "It is like the regular attribute join - but relies on geometry fields. In terms of Geopandas, it gets  attributes from one geodataframe (**right_gdf**) and adds them to another geodataframe (**left_gdf**) based on the spatial relationship between objects in the geometry columns of both geodataframes. \n",
    "\n",
    "Types:\n",
    "- left outer join (how='left'): retain all rows (geometries) from left_gdf, and possibly duplicate them if there are several matching rows in right_gdf\n",
    "- right outer join (how='right'): retain all rows (geometries) from right_gdf, possibly duplicating them if several matching rows\n",
    "- inner join (how='inner'): retain only matched rows on the left_gdf and right_gdf, and retain left_gdf geometries\n",
    "\n",
    "\n",
    "Since geometries can be represented using different types of objects (point, lines, polygons, their multipart versions - but also curves, etc.), in different coordinate systems, it becomes complicated. The meaning of spatial join also depends on the types of features being joined. \n",
    "\n",
    "Results of the join also depend on geometric acuracy and precision. Even if you try to join based on equal polygons (similar to simple equality in non-spatial join) the concept of \"equal geometries\" is not that simple (e.g., polygons may carve the same region of space, but have different shape points, or even rings may have different starting points...)\n",
    "\n",
    "Geopandas, for example, defines equal polygons if their boundary, exterior and interior coinside. But boundary points may be different - see below. \n",
    "\n",
    "**This notion of equality of spatial objects is another important convention in GIS**\n"
   ]
  },
  {
   "cell_type": "code",
   "execution_count": null,
   "metadata": {},
   "outputs": [],
   "source": [
    "from shapely.geometry import Polygon\n",
    "poly1 = geopandas.GeoSeries([Polygon([(0,0), (2,0), (2,2), (0,2)])])\n",
    "poly2 = geopandas.GeoSeries([Polygon([(2,0), (2,1), (2,2), (0,2), (0,0)])])\n",
    "poly1.geom_equals(poly2)"
   ]
  },
  {
   "cell_type": "markdown",
   "metadata": {},
   "source": [
    "### Why the notion of spatial object equality is important?\n",
    "You can simplify geometries of lines and polygons - by removing extra vertices which don't make the geometry more accurate. \n",
    "\n",
    "Depending on your spatial accuracy needs and scale of analysis, feature geometries can be further simplified by removing less important vertices. This is especially useful in web mapping when you need to send vector coordinate information to the client for display or for spatial operations. For example, in SuAVE, where geometries are represented as WKT, the shorter the WKT string the faster it will render in browser. AXIOMAP (my old web GIS project, https://cartographicperspectives.org/index.php/journal/article/view/cp37-zavlavsky) used the same approach. \n",
    "\n",
    "Line simplification can be done through code. See https://www.programcreek.com/python/example/103256/geopandas.GeoDataFrame (example 17) for an example on how to simplify geometries with Geopandas.\n",
    "\n",
    "However, in most cases geometry simplification (and feature editing in general) is done using desktop GIS software. An example of a very useful online tool for map data editing is https://mapshaper.org/. It lets you observe how different simplification parameters affect geometries.\n",
    "\n",
    "\n",
    "### Now, let's return to San Diego parks, and see if we can join park information to the proposed locations, based on which park the location is within\n",
    "\n",
    "For this to work, we need:\n",
    "- make sure that both the locations and the parks are in the same CRS\n",
    "- make sure the geometries are valid\n",
    "- use spatial relationship \"within\" to perform the join"
   ]
  },
  {
   "cell_type": "code",
   "execution_count": null,
   "metadata": {
    "scrolled": true
   },
   "outputs": [],
   "source": [
    "sd_parks.count()"
   ]
  },
  {
   "cell_type": "code",
   "execution_count": null,
   "metadata": {},
   "outputs": [],
   "source": [
    "# 1) Handle the CRS\n",
    "new_loc_2230 = new_locations.to_crs(2230)\n",
    "new_loc_2230"
   ]
  },
  {
   "cell_type": "code",
   "execution_count": null,
   "metadata": {},
   "outputs": [],
   "source": [
    "# 2) Ensure that geometries are valid\n",
    "\n",
    "# You need to have valid geometries to do spatial join.\n",
    "# https://stackoverflow.com/questions/56961270/geopandas-spatial-join-attributeerror-nonetype-object-has-no-attribute-bou\n",
    "\n",
    "sd_parks_clean = sd_parks.loc[sd_parks.is_valid]\n",
    "new_locations_clean = new_loc_2230.loc[new_loc_2230.is_valid]"
   ]
  },
  {
   "cell_type": "code",
   "execution_count": null,
   "metadata": {},
   "outputs": [],
   "source": [
    "# 3) do the join with operation = within\n",
    "\n",
    "# Suppose you are trying to find parks which contain the proposed locations or are the closest to the proposed locations. \n",
    "# let's use spatial join to do this. We can join based on proximity, \n",
    "# or topological predicates such as \"within\". \n",
    "# Other predicates can be \"intersects\", \"contains\".\n",
    "# This set of predicates is rather limiting...\n",
    "\n",
    "\n",
    "locations_with_parks = geopandas.sjoin(new_locations_clean, sd_parks_clean, how='inner', predicate='within')\n",
    "\n"
   ]
  },
  {
   "cell_type": "code",
   "execution_count": null,
   "metadata": {},
   "outputs": [],
   "source": [
    "# in the new version of geopandas, you can also write it as a methods over the left_gdf\n",
    "\n",
    "locations_with_parks = new_locations_clean.sjoin(sd_parks_clean,how='inner', predicate='within')"
   ]
  },
  {
   "cell_type": "code",
   "execution_count": null,
   "metadata": {},
   "outputs": [],
   "source": [
    "# let's look at the data in the geodataframe. \n",
    "# Notice several new fields, which came from sd_parks2\n",
    "\n",
    "locations_with_parks"
   ]
  },
  {
   "cell_type": "markdown",
   "metadata": {},
   "source": [
    "###  How do you find parks closest to a point??\n",
    "\n",
    "\n",
    "You can use shapely's nearest_point (see https://gis.stackexchange.com/questions/222315/geopandas-find-nearest-point-in-other-dataframe)\n",
    "\n",
    "just looping through records to find the nearest is not efficient; need to use a spatial index (spatial join in Geopandas uses RTree package for this)\n",
    "\n",
    "### to find nearest polygons in one gdf to points in another gdf: \n",
    "\n",
    "https://gis.stackexchange.com/questions/363891/find-nearest-polygon-from-geoseries-to-point-from-geoseries \n",
    "\n",
    "using scikit-learn's BallTree index for finding neighbors in large gdf's quickly: https://stackoverflow.com/questions/58893719/find-nearest-point-in-other-dataframe-with-a-lot-of-data\n",
    "\n",
    "\n",
    "However, from Geopandas 0.10, there is a new method: sjoin_nearest()!"
   ]
  },
  {
   "cell_type": "code",
   "execution_count": null,
   "metadata": {
    "scrolled": true
   },
   "outputs": [],
   "source": [
    "locations_with_parks = new_locations_clean.sjoin_nearest(sd_parks_clean,how='inner')\n",
    "locations_with_parks"
   ]
  },
  {
   "cell_type": "markdown",
   "metadata": {},
   "source": [
    "Notice that now we also have parks joined to locations 1 and 3 as well! \n",
    "\n",
    "This is because locations 1 and 3 are not within parks - but we can find parks that are the closest to them\n",
    "\n",
    "Also notice that there are two parks joined to location 2. How can a single location be within two different parks at the same time??"
   ]
  },
  {
   "cell_type": "code",
   "execution_count": null,
   "metadata": {},
   "outputs": [],
   "source": [
    "# Let's explore those. \n",
    "\n",
    "sdp = sd_parks[sd_parks['NAME'].isin({'Torrey Pines SNR','Ellen Browning Scripps NP'})]\n",
    "sdp.plot(column='NAME',legend=True,figsize=(10,10))"
   ]
  },
  {
   "cell_type": "code",
   "execution_count": null,
   "metadata": {},
   "outputs": [],
   "source": [
    "sdp.explore(column='NAME',legend=True, popup=True)"
   ]
  },
  {
   "cell_type": "markdown",
   "metadata": {},
   "source": [
    "Apparently, as we saw earlier with two other parks, park geometries are not necessarily tied to each other. We'll explore this in the next topic."
   ]
  },
  {
   "cell_type": "code",
   "execution_count": null,
   "metadata": {},
   "outputs": [],
   "source": [
    "sd_parks.crs"
   ]
  },
  {
   "cell_type": "markdown",
   "metadata": {},
   "source": [
    "=== Extra Material === Question from a student about folium map with multiple popups"
   ]
  },
  {
   "cell_type": "code",
   "execution_count": null,
   "metadata": {},
   "outputs": [],
   "source": [
    "# Earlier, we had this code:\n",
    "\n",
    "map = ca_water.explore(popup=True)\n",
    "map.add_child(folium.Choropleth(geo_data=sd_parks2,fill_color=\"Red\",fill_opacity=0.3))\n",
    "map\n",
    "\n",
    "# here, only the ca_water objects had pop-ups. \n",
    "\n",
    "# how to add pop-ups to a layer added via folium.Choropleth?"
   ]
  },
  {
   "cell_type": "code",
   "execution_count": null,
   "metadata": {},
   "outputs": [],
   "source": [
    "# it is a bit more involved:\n",
    "\n",
    "from folium.features import GeoJson, GeoJsonTooltip\n",
    "\n",
    "map = ca_water.explore(popup=True)\n",
    "\n",
    "# Function to add a Choropleth layer with popups\n",
    "def add_choropleth_with_popup(map_obj, gdf, fill_color, tooltip_fields=None):\n",
    "    geojson = folium.GeoJson(\n",
    "        data=gdf,\n",
    "        style_function=lambda x: {\n",
    "            'fillColor': fill_color,\n",
    "            'color': 'black',\n",
    "            'weight': 0.5,\n",
    "            'fillOpacity': 0.3\n",
    "        },\n",
    "        tooltip=GeoJsonTooltip(fields=tooltip_fields) if tooltip_fields else None\n",
    "    )\n",
    "    \n",
    "    # Add popups\n",
    "    for _, feature in gdf.iterrows():\n",
    "        if 'NAME' in feature and 'OWNERSHIP' in feature:\n",
    "            popup_content = f\"{feature['NAME']} - {feature['OWNERSHIP']}\"\n",
    "            folium.Popup(popup_content).add_to(geojson)\n",
    "    \n",
    "    map_obj.add_child(geojson)\n",
    "\n",
    "# Add the dissolved parks with popup\n",
    "add_choropleth_with_popup(map, sd_parks2, fill_color=\"red\", tooltip_fields=['NAME', 'OWNERSHIP'])\n",
    "\n",
    "# show the map\n",
    "map"
   ]
  },
  {
   "cell_type": "code",
   "execution_count": null,
   "metadata": {},
   "outputs": [],
   "source": []
  }
 ],
 "metadata": {
  "kernelspec": {
   "display_name": "Python 3 (ipykernel)",
   "language": "python",
   "name": "python3"
  },
  "language_info": {
   "codemirror_mode": {
    "name": "ipython",
    "version": 3
   },
   "file_extension": ".py",
   "mimetype": "text/x-python",
   "name": "python",
   "nbconvert_exporter": "python",
   "pygments_lexer": "ipython3",
   "version": "3.11.9"
  },
  "toc": {
   "base_numbering": 1,
   "nav_menu": {},
   "number_sections": true,
   "sideBar": true,
   "skip_h1_title": true,
   "title_cell": "Table of Contents",
   "title_sidebar": "Contents",
   "toc_cell": false,
   "toc_position": {},
   "toc_section_display": true,
   "toc_window_display": false
  }
 },
 "nbformat": 4,
 "nbformat_minor": 4
}
