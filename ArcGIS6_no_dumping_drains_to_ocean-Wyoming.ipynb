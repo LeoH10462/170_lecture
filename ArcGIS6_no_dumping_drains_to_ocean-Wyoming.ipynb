{
 "cells": [
  {
   "cell_type": "markdown",
   "metadata": {},
   "source": [
    "<h1><b>Tracing drain to ocean (ArcGIS6-0)</b></h1>"
   ]
  },
  {
   "cell_type": "markdown",
   "metadata": {
    "toc": true
   },
   "source": [
    "<h1>**Table of Contents**<span class=\"tocSkip\"></span></h1>\n",
    "<div class=\"toc\"><ul class=\"toc-item\"><li><span><a href=\"#Hydrologic-data-analysiss:-tracing-drain-to-ocean\" data-toc-modified-id=\"Hydrologic-data-analysiss:-tracing-drain-to-ocean-1\">Hydrologic data analysiss: tracing drain to ocean</a></span><ul class=\"toc-item\"><li><span><a href=\"#No-Dumping---Drains-to-Ocean\" data-toc-modified-id=\"No-Dumping---Drains-to-Ocean-1.1\">No Dumping - Drains to Ocean</a></span></li><li><span><a href=\"#Getting-set-up\" data-toc-modified-id=\"Getting-set-up-1.2\">Getting set up</a></span></li><li><span><a href=\"#Create-watersheds-for-the-storm-drain\" data-toc-modified-id=\"Create-watersheds-for-the-storm-drain-1.3\">Create watersheds for the storm drain</a></span><ul class=\"toc-item\"><li><span><a href=\"#Create-a-default-watershed-for-the-storm-drain-point-feature\" data-toc-modified-id=\"Create-a-default-watershed-for-the-storm-drain-point-feature-1.3.1\">Create a default watershed for the storm drain point feature</a></span></li><li><span><a href=\"#Create-a-watershed-on-the-nearest-drainage-line-using-a-search-distance\" data-toc-modified-id=\"Create-a-watershed-on-the-nearest-drainage-line-using-a-search-distance-1.3.2\">Create a watershed on the nearest drainage line using a search distance</a></span></li><li><span><a href=\"#Find-the-distance-from-the-storm-drain-point-to-the-snapped-point-on-the-nearest-drainage-line\" data-toc-modified-id=\"Find-the-distance-from-the-storm-drain-point-to-the-snapped-point-on-the-nearest-drainage-line-1.3.3\">Find the distance from the storm drain point to the snapped point on the nearest drainage line</a></span></li></ul></li><li><span><a href=\"#Find-the-downstream-flow-path-from-the-storm-drain\" data-toc-modified-id=\"Find-the-downstream-flow-path-from-the-storm-drain-1.4\">Find the downstream flow path from the storm drain</a></span><ul class=\"toc-item\"><li><span><a href=\"#Inspect-the-length-of-downstream-trace-from-the-storm-drain-to-the-ocean-(which-ocean?)\" data-toc-modified-id=\"Inspect-the-length-of-downstream-trace-from-the-storm-drain-to-the-ocean-(which-ocean?)-1.4.1\">Inspect the length of downstream trace from the storm drain to the ocean (which ocean?)</a></span></li><li><span><a href=\"#Divide-the-downstream-trace-into-multiple-segments\" data-toc-modified-id=\"Divide-the-downstream-trace-into-multiple-segments-1.4.2\">Divide the downstream trace into multiple segments</a></span></li><li><span><a href=\"#Inspect-the-'from-distance'-and-'to-distance'-of-each-segment-in-the-downstream-trace.\" data-toc-modified-id=\"Inspect-the-'from-distance'-and-'to-distance'-of-each-segment-in-the-downstream-trace.-1.4.3\">Inspect the 'from distance' and 'to distance' of each segment in the downstream trace.</a></span></li></ul></li><li><span><a href=\"#Conclusion\" data-toc-modified-id=\"Conclusion-1.5\">Conclusion</a></span></li></ul></li></ul></div>"
   ]
  },
  {
   "cell_type": "markdown",
   "metadata": {},
   "source": [
    "<img src=\"img/creek_into_two_oceans.PNG\">\n",
    "\n",
    "# Hydrologic data analysis: tracing drain to ocean\n",
    "\n",
    "This demo is based on a sample notebook from ESRI. The image above is from https://www.cntraveler.com/story/this-wyoming-creek-flows-into-two-oceans\n",
    "\n",
    "A nice recent UI for a similar system is at https://river-runner-global.samlearner.com/ - try it!\n",
    "\n",
    "\n",
    "## No Dumping - Drains to Ocean\n",
    "\n",
    "Have you ever seen a sign near a storm drain that says \"No Dumping - Drains to Ocean\"? If you live inland, you might have seen one that says Drains to River, Lake, Bay, or Waterway. All of these are messages about the same thing—anything washed or dumped into the drain will be transported downstream and has the potential to pollute local waterways and the larger water bodies they connect to. For example, pollution carried down the Mississippi from Midwestern farms has created a dead zone in the Gulf of Mexico the size of Massachusetts where fish and plants have to fight for survival.\n",
    "\n",
    "In this notebook, you'll learn how to find the area that drains to a storm drain, and the route that pollutants will take if they are dumped or washed into the drain. You'll find the upstream drainage area, called a watershed, for a storm drain near [a location of your choice] . Then you'll find the downstream flow path to where it empties into the Gulf of Mexico or another body of water. Knowing how to find these, you can experiment to find the watersheds and flow paths from other storm drain locations.\n",
    "\n",
    "This notebook uses Spatial Analysis online service tools, **Create Watershed** and **Trace Downstream**, that perform analysis on your web GIS. You can find more information about the Create Watershed analysis tool [here](https://developers.arcgis.com/rest/analysis/api-reference/create-watersheds.htm) and the Trace Downstream analysis tool [here](https://developers.arcgis.com/rest/analysis/api-reference/trace-downstream.htm)."
   ]
  },
  {
   "cell_type": "markdown",
   "metadata": {},
   "source": [
    "## Getting set up\n",
    "Import the necessary libraries, and connect to your portal."
   ]
  },
  {
   "cell_type": "code",
   "execution_count": null,
   "metadata": {},
   "outputs": [],
   "source": [
    "import warnings\n",
    "# warnings.simplefilter(action='ignore', category=FutureWarning)\n",
    "\n",
    "import pandas as pd\n",
    "import arcgis\n",
    "from arcgis.gis import GIS\n",
    "from arcgis.features import Feature, FeatureSet, FeatureCollection\n",
    "from arcgis.geometry import Point, distance\n",
    "from arcgis.features.analysis import create_watersheds\n",
    "from arcgis.features.analysis import trace_downstream\n",
    "\n",
    "# login with UCSD Single-Sign-On. \n",
    "gis=GIS(\"https://ucsdonline.maps.arcgis.com/home\", client_id=\"bZshlNXFuaR2KHff\") \n"
   ]
  },
  {
   "cell_type": "markdown",
   "metadata": {},
   "source": [
    "Create a new map and navigate to the area of interest: some area at the continental divide"
   ]
  },
  {
   "cell_type": "code",
   "execution_count": null,
   "metadata": {},
   "outputs": [],
   "source": [
    "# storm_drain_map = gis.map(\"Teton Wilderness, WY, USA. \",8)\n",
    "storm_drain_map = gis.map(\"Nebraska, USA. \",6)\n",
    "storm_drain_map"
   ]
  },
  {
   "cell_type": "code",
   "execution_count": null,
   "metadata": {},
   "outputs": [],
   "source": [
    "storm_drain_map.basemap.basemap = 'hybrid'"
   ]
  },
  {
   "cell_type": "markdown",
   "metadata": {},
   "source": [
    "Let us pick a storm drain point for our analysis."
   ]
  },
  {
   "cell_type": "code",
   "execution_count": null,
   "metadata": {},
   "outputs": [],
   "source": [
    "storm_drain_feature = Feature.from_dict(\n",
    "    {'geometry' : {'x' : -100.8046341,\n",
    "                   'y' : 40.9163524,\n",
    "                   'type' : 'point',\n",
    "                   'spatialReference' : {'latestWkid' : 4326,\n",
    "                   'wkid' : 4326}}})\n",
    "\n",
    "# storm_drain_feature = Feature.from_dict(\n",
    "#     {'geometry' : {'x' : -110.8046341,\n",
    "#                    'y' : 43.9163524,\n",
    "#                    'type' : 'point',\n",
    "#                    'spatialReference' : {'latestWkid' : 4326,\n",
    "#                    'wkid' : 4326}}})\n",
    "\n",
    "storm_drain_df = FeatureSet([storm_drain_feature]).sdf\n",
    "storm_drain_fc = storm_drain_df.spatial.to_feature_collection(\n",
    "    'storm_drain_fc')"
   ]
  },
  {
   "cell_type": "markdown",
   "metadata": {},
   "source": [
    "Plot the point on the map. In the following section you will build watersheds for this point."
   ]
  },
  {
   "cell_type": "code",
   "execution_count": null,
   "metadata": {},
   "outputs": [],
   "source": [
    "storm_drain_df.spatial.plot(map_widget = storm_drain_map, \n",
    "                            renderer_type ='s',\n",
    "                            symbol_type = 'simple',\n",
    "                            symbol_style = 'd', # d - for diamonds\n",
    "                            colors = 'Reds_r',\n",
    "                            cstep = 10,\n",
    "                            outline_color = 'Blues',\n",
    "                            marker_size = 20)"
   ]
  },
  {
   "cell_type": "markdown",
   "metadata": {},
   "source": [
    "## Create watersheds for the storm drain\n",
    "\n",
    "### Create a default watershed for the storm drain point feature\n",
    "Use the Create Watershed tool from the `arcgis.feature.analysis` module to find the upstream contributing area to the storm drain point. You'll first create a watershed by keeping all the default parameters in the tool."
   ]
  },
  {
   "cell_type": "code",
   "execution_count": null,
   "metadata": {},
   "outputs": [],
   "source": [
    "try:\n",
    "    storm_drain_watershed = create_watersheds(storm_drain_fc, gis=gis)\n",
    "except Exception as e:\n",
    "    print(\"Error: Portal not configured with Hydrology Utility\")\n",
    "    raise e\n",
    "\n",
    "storm_drain_watershed"
   ]
  },
  {
   "cell_type": "markdown",
   "metadata": {},
   "source": [
    "Add the storm drain watershed to the storm drain map."
   ]
  },
  {
   "cell_type": "code",
   "execution_count": null,
   "metadata": {},
   "outputs": [],
   "source": [
    "from arcgis.geometry import Point, Polygon\n",
    "from arcgis.map.symbols import SimpleMarkerSymbolEsriSMS, SimpleFillSymbolEsriSFS\n",
    "\n",
    "# Create symbol for pour points\n",
    "pour_point_symbol = SimpleMarkerSymbolEsriSMS(\n",
    "    style=\"esriSMSCircle\",\n",
    "    color=[0, 0, 255, 255],  # Blue\n",
    "    size=8,\n",
    "    outline={\n",
    "        \"color\": [0, 0, 0, 255],\n",
    "        \"width\": 1\n",
    "    }\n",
    ")\n",
    "\n",
    "# Create symbol for watershed\n",
    "watershed_symbol = SimpleFillSymbolEsriSFS(\n",
    "    style=\"esriSFSSolid\",\n",
    "    color=[0, 255, 255, 128],  # Cyan with transparency\n",
    "    outline={\n",
    "        \"color\": [0, 0, 0, 255],\n",
    "        \"width\": 1\n",
    "    }\n",
    ")\n",
    "\n",
    "# Draw pour points\n",
    "for feature in storm_drain_watershed['snap_pour_pts_layer'].query().features:\n",
    "    point = Point(feature.geometry)\n",
    "    storm_drain_map.content.draw(point, symbol=pour_point_symbol)\n",
    "\n",
    "# Draw watershed polygons\n",
    "for feature in storm_drain_watershed['watershed_layer'].query().features:\n",
    "    polygon = Polygon(feature.geometry)\n",
    "    storm_drain_map.content.draw(polygon, symbol=watershed_symbol)\n"
   ]
  },
  {
   "cell_type": "markdown",
   "metadata": {},
   "source": [
    "Create a Spatially Enabled DataFrame from the watershed feature collection layer you created and read the records in this watershed."
   ]
  },
  {
   "cell_type": "code",
   "execution_count": null,
   "metadata": {},
   "outputs": [],
   "source": [
    "storm_drain_watershed_fc = storm_drain_watershed['watershed_layer']\n",
    "storm_drain_watershed_fc.query().sdf"
   ]
  },
  {
   "cell_type": "markdown",
   "metadata": {},
   "source": [
    "As you can see from the watershed feature layer collection added to the map and the `DataFrame` queried above, the size of this watershed is quite small. These results are not unusual. If your analysis point is located away from a drainage line, the resulting watershed is likely to be very small and not of much use in determining the upstream source of contamination. In most cases, your analysis point should be positioned on the nearest drainage line to find the watershed that flows to a point on the drainage line.\n",
    "\n",
    "### Create a watershed on the nearest drainage line using a search distance\n",
    "\n",
    "To find the closest drainage line, you can specify a **search distance**, which is what you’ll do in the next section. The results of this tool should be used to provide a regional understanding of the watershed rather than identify the exact location of the watershed at local scales. You'll do that next."
   ]
  },
  {
   "cell_type": "code",
   "execution_count": null,
   "metadata": {},
   "outputs": [],
   "source": [
    "storm_drain_large_watershed = create_watersheds(\n",
    "    storm_drain_fc, \n",
    "    search_distance = 0.5, \n",
    "    search_units = \"miles\",\n",
    "    context = {'outSR' : {'latestWkid' : 3857,\n",
    "                          'wkid' : 102100}},\n",
    "    gis=gis)\n",
    "\n",
    "storm_drain_large_watershed"
   ]
  },
  {
   "cell_type": "markdown",
   "metadata": {},
   "source": [
    "Query the large watershed created to determine the new analysis area."
   ]
  },
  {
   "cell_type": "code",
   "execution_count": null,
   "metadata": {},
   "outputs": [],
   "source": [
    "storm_drain_large_watershed_fc = \\\n",
    "    storm_drain_large_watershed['watershed_layer']\n",
    "storm_drain_large_watershed_fc.query().sdf"
   ]
  },
  {
   "cell_type": "code",
   "execution_count": null,
   "metadata": {},
   "outputs": [],
   "source": [
    "storm_drain_map.content.add(\n",
    "    storm_drain_large_watershed['watershed_layer'],\n",
    "    options = {'opacity' : 0.5})\n",
    "storm_drain_map.content.add(\n",
    "    storm_drain_large_watershed['snap_pour_pts_layer'],\n",
    "    options = {'opacity' : 0.5})"
   ]
  },
  {
   "cell_type": "markdown",
   "metadata": {},
   "source": [
    "Zoom out of storm drain map to see the watershed from the closest drainage line. When the analysis is completed, you’ll see that another watershed has been added to the map that encompasses nearly the entire smaller watershed. Zoom out of the map to see the entire watershed. "
   ]
  },
  {
   "cell_type": "markdown",
   "metadata": {},
   "source": [
    "## Find the downstream flow path from the storm drain\n",
    "\n",
    "You've identified where the water in the storm drain comes from. In the next section, you'll find the path it will take to the ocean. You'll use the **Trace Downstream** tool to find the downstream flow path."
   ]
  },
  {
   "cell_type": "code",
   "execution_count": null,
   "metadata": {},
   "outputs": [],
   "source": [
    "storm_drain_downstream_trace = trace_downstream(\n",
    "    input_layer=storm_drain_fc, gis=gis)"
   ]
  },
  {
   "cell_type": "code",
   "execution_count": null,
   "metadata": {},
   "outputs": [],
   "source": [
    "downstream_map = gis.map('USA')\n",
    "downstream_map"
   ]
  },
  {
   "cell_type": "code",
   "execution_count": null,
   "metadata": {},
   "outputs": [],
   "source": [
    "downstream_map.basemap.basemap = 'gray-vector'\n"
   ]
  },
  {
   "cell_type": "code",
   "execution_count": null,
   "metadata": {},
   "outputs": [],
   "source": []
  },
  {
   "cell_type": "code",
   "execution_count": null,
   "metadata": {},
   "outputs": [],
   "source": [
    "downstream_map.content.add(\n",
    "    storm_drain_large_watershed['watershed_layer'],\n",
    "    options = {'opacity' : 0.5})\n",
    "downstream_map.content.add(\n",
    "    storm_drain_large_watershed['snap_pour_pts_layer'],\n",
    "    options = {'opacity' : 0.5})\n",
    "\n"
   ]
  },
  {
   "cell_type": "code",
   "execution_count": null,
   "metadata": {},
   "outputs": [],
   "source": [
    "from arcgis.map.symbols import SimpleLineSymbolEsriSLS\n",
    "\n",
    "# Create downstream trace symbol (blue line)\n",
    "trace_symbol = SimpleLineSymbolEsriSLS(\n",
    "    style=\"esriSLSSolid\",\n",
    "    color=[0, 0, 255, 255],  # Blue\n",
    "    width=2\n",
    ")\n",
    "\n",
    "# Draw downstream trace using query() for FeatureCollection\n",
    "for feature in storm_drain_downstream_trace.query().features:\n",
    "    downstream_map.content.draw(feature.geometry, symbol=trace_symbol)\n"
   ]
  },
  {
   "cell_type": "markdown",
   "metadata": {},
   "source": [
    "### Inspect the length of downstream trace from the storm drain to the ocean (which ocean?)"
   ]
  },
  {
   "cell_type": "code",
   "execution_count": null,
   "metadata": {},
   "outputs": [],
   "source": [
    "storm_drain_trace_sdf = storm_drain_downstream_trace.query().sdf\n",
    "storm_drain_trace_sdf.head()"
   ]
  },
  {
   "cell_type": "markdown",
   "metadata": {},
   "source": [
    "The trace is more than `1,200` miles long. \n",
    "\n",
    "### Divide the downstream trace into multiple segments\n",
    "\n",
    "The trace line can be split into multiple lines where each line is of the specified length. For example, if there is a large contamination spill near the storm drain and the river it flows at a rate of `5` miles per hour, or `120` miles per day, you might want to split the river into `120` mile segments. Splitting the trace into `120` mile intervals will show approximately where the spill will travel each day. The line will be symbolized using graduated colors based on distance and will be labeled with the distance from the start of the trace. The resulting trace will have multiple line segments, each with fields `FromDistance` and `ToDistance`."
   ]
  },
  {
   "cell_type": "code",
   "execution_count": null,
   "metadata": {},
   "outputs": [],
   "source": [
    "storm_drain_downstream_trace_split = trace_downstream(\n",
    "    input_layer = storm_drain_fc, gis=gis,\n",
    "    split_distance = 120,\n",
    "    split_units = 'Miles')"
   ]
  },
  {
   "cell_type": "code",
   "execution_count": null,
   "metadata": {},
   "outputs": [],
   "source": [
    "downstream_map.content.add(storm_drain_downstream_trace_split)"
   ]
  },
  {
   "cell_type": "markdown",
   "metadata": {},
   "source": [
    "### Inspect the 'from distance' and 'to distance' of each segment in the downstream trace."
   ]
  },
  {
   "cell_type": "code",
   "execution_count": null,
   "metadata": {},
   "outputs": [],
   "source": [
    "storm_drain_trace_split_sdf = \\\n",
    "    storm_drain_downstream_trace_split.query().sdf\n",
    "storm_drain_trace_split_sdf.head(11)"
   ]
  },
  {
   "cell_type": "markdown",
   "metadata": {},
   "source": [
    "## Conclusion\n",
    "In this sample we used `create_watershed()` and `trace_downstream()` hydrology tools to derive watershed boundaries and the downstream flow path for a given point. The analysis can be easily repated for any point on the globe.\n",
    "\n",
    "Our waterbodies are precious natural resources. Just as we saw from this sample, anything washed or dumped into the drain will be transported downstream and has the potential to pollute local waterways and the larger water bodies they connect to. "
   ]
  },
  {
   "cell_type": "code",
   "execution_count": null,
   "metadata": {},
   "outputs": [],
   "source": []
  }
 ],
 "metadata": {
  "kernelspec": {
   "display_name": "Python 3 (ipykernel)",
   "language": "python",
   "name": "python3"
  },
  "language_info": {
   "codemirror_mode": {
    "name": "ipython",
    "version": 3
   },
   "file_extension": ".py",
   "mimetype": "text/x-python",
   "name": "python",
   "nbconvert_exporter": "python",
   "pygments_lexer": "ipython3",
   "version": "3.11.9"
  },
  "toc": {
   "base_numbering": 1,
   "nav_menu": {},
   "number_sections": false,
   "sideBar": true,
   "skip_h1_title": false,
   "title_cell": "**Table of Contents**",
   "title_sidebar": "Contents",
   "toc_cell": true,
   "toc_position": {
    "height": "calc(100% - 180px)",
    "left": "10px",
    "top": "150px",
    "width": "270.2px"
   },
   "toc_section_display": true,
   "toc_window_display": true
  }
 },
 "nbformat": 4,
 "nbformat_minor": 4
}
